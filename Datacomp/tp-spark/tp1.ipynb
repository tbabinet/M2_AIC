{
 "cells": [
  {
   "cell_type": "code",
   "execution_count": 1,
   "metadata": {},
   "outputs": [],
   "source": [
    "from pyspark.ml import Pipeline\n",
    "from pyspark.ml.classification import LogisticRegression\n",
    "from pyspark.ml.feature import HashingTF, Tokenizer\n",
    "from pyspark.sql import Row, SparkSession\n",
    "from pyspark.sql.functions import udf\n",
    "from pyspark.sql.functions import desc\n",
    "from pyspark.sql.types import *\n",
    "from pyspark import SparkContext"
   ]
  },
  {
   "cell_type": "code",
   "execution_count": 2,
   "metadata": {},
   "outputs": [],
   "source": [
    "sc = SparkContext(\"local\", \"TP1\")\n",
    "spark = SparkSession.builder.appName(\"TP1\").getOrCreate()"
   ]
  },
  {
   "cell_type": "code",
   "execution_count": 26,
   "metadata": {},
   "outputs": [],
   "source": [
    "df1 = spark.read.load(\"food.csv\", format=\"csv\",\n",
    "sep=\",\",\n",
    "inferSchema=\"true\",\n",
    "header=\"true\")"
   ]
  },
  {
   "cell_type": "code",
   "execution_count": 27,
   "metadata": {},
   "outputs": [
    {
     "name": "stdout",
     "output_type": "stream",
     "text": [
      "+-------------+--------------------+--------------------+---------+--------------------+---------------+--------------------+-------+-----+-----+---------------+--------------------+------------------+--------------------+------------------+------------------+--------------------+--------------------------+---------+---------------+-------------+-----+\n",
      "|Inspection ID|            DBA Name|            AKA Name|License #|       Facility Type|           Risk|             Address|   City|State|  Zip|Inspection Date|     Inspection Type|           Results|          Violations|          Latitude|         Longitude|            Location|Historical Wards 2003-2015|Zip Codes|Community Areas|Census Tracts|Wards|\n",
      "+-------------+--------------------+--------------------+---------+--------------------+---------------+--------------------+-------+-----+-----+---------------+--------------------+------------------+--------------------+------------------+------------------+--------------------+--------------------------+---------+---------------+-------------+-----+\n",
      "|      2320519|   SALAM  RESTAURANT|    SALAM RESTAURANT|  2002822|          Restaurant|  Risk 1 (High)|4634-4636 N KEDZI...|CHICAGO|   IL|60625|     10/25/2019|Complaint Re-Insp...|              Pass|                null|41.965719017423005|-87.70853756167853|(-87.708537561678...|                      null|     null|           null|         null| null|\n",
      "|      2320443|     JORDAN DISCOUNT|     JORDAN DISCOUNT|  2694525|       Grocery Store|   Risk 3 (Low)|  5254 W MADISON ST |CHICAGO|   IL|60644|     10/24/2019|License Re-Inspec...|              Pass|                null| 41.88045497430518|-87.75728976536573|(-87.757289765365...|                      null|     null|           null|         null| null|\n",
      "|      2320451|PRETTY COOL ICE C...|PRETTY COOL ICE C...|  2616833|          Restaurant|  Risk 1 (High)|2353 N CALIFORNIA...|CHICAGO|   IL|60647|     10/24/2019|             Canvass|              Pass|37. FOOD PROPERLY...| 41.92436282156778|-87.69725539567338|(-87.697255395673...|                      null|     null|           null|         null| null|\n",
      "|      2320388|      BOMBASTIC CAFE|      BOMBASTIC CAFE|  2678198|          Restaurant|Risk 2 (Medium)|3732 N SOUTHPORT ...|CHICAGO|   IL|60613|     10/24/2019|             License|              Fail|53. TOILET FACILI...| 41.94988264936109| -87.6642417785868|(-87.664241778586...|                      null|     null|           null|         null| null|\n",
      "|      2320389|ALL THINGS ARE PO...|ALL THINGS ARE PO...|  2215965|Children's Servic...|  Risk 1 (High)| 4014 W CHICAGO AVE |CHICAGO|   IL|60651|     10/24/2019|             License|              Pass|54. GARBAGE & REF...| 41.89546788877342| -87.7266648149535|(-87.726664814953...|                      null|     null|           null|         null| null|\n",
      "|      2320364|FIREWATER SALOON ...|FIREWATER SALOON ...|    15956|          Restaurant|  Risk 1 (High)|    3908 W 111TH ST |CHICAGO|   IL|60655|     10/24/2019|Complaint Re-Insp...|              Pass|                null|41.691406189233774|-87.71830607808162|(-87.718306078081...|                      null|     null|           null|         null| null|\n",
      "|      2320354|    AVLI RIVER NORTH|    AVLI RIVER NORTH|  2683658|          Restaurant|   Risk 3 (Low)| 700-702 N WELLS ST |CHICAGO|   IL|60654|     10/23/2019|             License|              Pass|                null| 41.89483049188808|-87.63430053853016|(-87.634300538530...|                      null|     null|           null|         null| null|\n",
      "|      2320439|  TAQUERIA LA CIUDAD|  TAQUERIA LA CIUDAD|  2631346|Mobile Food Preparer|Risk 2 (Medium)|3233-3237 W Cerma...|CHICAGO|   IL|60623|     10/23/2019|             License|          No Entry|                null| 41.85164288650078| -87.7064081112397|(-87.706408111239...|                      null|     null|           null|         null| null|\n",
      "|      2320347|GO! COMMISSARY AN...|GO! COMMISSARY AN...|  2269695|            Catering|  Risk 1 (High)|3211 W ARMITAGE AVE |CHICAGO|   IL|60647|     10/23/2019|             Canvass|   Out of Business|                null|41.917286920981006|-87.70745338783728|(-87.707453387837...|                      null|     null|           null|         null| null|\n",
      "|      2320315|SERENDIPITY CHILD...|SERENDIPITY CHILD...|  2216009|Daycare Above and...|  Risk 1 (High)|     1300 W 99TH ST |CHICAGO|   IL|60643|     10/23/2019|License Re-Inspec...|              Pass|                null|  41.7141680989703|-87.65529116028439|(-87.655291160284...|                      null|     null|           null|         null| null|\n",
      "|      2320343|              DO EAT|              DO EAT|  2492365|          Restaurant|  Risk 1 (High)|  3141 S HALSTED ST |CHICAGO|   IL|60608|     10/23/2019|           Complaint|          No Entry|                null|41.836871979178554|-87.64610208451234|(-87.646102084512...|                      null|     null|           null|         null| null|\n",
      "|      2320298|             HAISOUS|           CA PHE DA|  2464411|          Restaurant|  Risk 1 (High)|1800-1802 S CARPE...|CHICAGO|   IL|60608|     10/22/2019|             Canvass|              Pass|47. FOOD & NON-FO...|  41.8579631274509| -87.6533577347641|(-87.653357734764...|                      null|     null|           null|         null| null|\n",
      "|      2320278|       JERSEY MIKE'S|       JERSEY MIKE'S|  2694819|          Restaurant|            All|     225 S CANAL ST |CHICAGO|   IL|60606|     10/22/2019|             License|         Not Ready|                null|41.878531278353606|-87.63942745962717|(-87.639427459627...|                      null|     null|           null|         null| null|\n",
      "|      2320260|              GOPUFF|              GOPUFF|  2684560|       Grocery Store|   Risk 3 (Low)|  1801 W WARNER AVE |CHICAGO|   IL|60613|     10/22/2019|             License|              Fail|                null|41.956845683288854| -87.6743946694658|(-87.674394669465...|                      null|     null|           null|         null| null|\n",
      "|      2320255|    7-ELEVEN #35750A|            7-ELEVEN|  2688816|       Grocery Store|   Risk 3 (Low)|1658 N MILWAUKEE ...|CHICAGO|   IL|60647|     10/22/2019|             License|              Pass|                null|41.911442870211495|-87.67933447184733|(-87.679334471847...|                      null|     null|           null|         null| null|\n",
      "|      2320243|KREATIVE KIDZ ACA...|KREATIVE KIDZ ACA...|  2428901|Children's Servic...|  Risk 1 (High)|8236-8238 S COTTA...|CHICAGO|   IL|60619|     10/22/2019|             License|Pass w/ Conditions|22. PROPER COLD H...| 41.74468313979549|-87.60519976902937|(-87.605199769029...|                      null|     null|           null|         null| null|\n",
      "|      2320224|     GEORGIAN BAKERY|     GEORGIAN BAKERY|    53845|              Bakery|  Risk 1 (High)|   2812 W DEVON AVE |CHICAGO|   IL|60659|     10/21/2019|             Canvass|   Out of Business|                null| 41.99766054493654|  -87.700212519329|(-87.700212519329...|                      null|     null|           null|         null| null|\n",
      "|      2320233|#1 CHOP SUEY REST...|        #1 CHOP SUEY|  2695112|          Restaurant|  Risk 1 (High)|7342 S STONY ISLA...|CHICAGO|   IL|60649|     10/22/2019|             License|              Pass|                null| 41.76113827175918|-87.58634581379175|(-87.586345813791...|                      null|     null|           null|         null| null|\n",
      "|      2316201|   CORTLAND'S GARAGE|   CORTLAND'S GARAGE|  1914060|          Restaurant|  Risk 1 (High)| 1645 W CORTLAND ST |CHICAGO|   IL|60622|     10/21/2019|             Canvass|          No Entry|                null| 41.91597456632108|-87.66962157196225|(-87.669621571962...|                      null|     null|           null|         null| null|\n",
      "|      2316175|     ONESTI PIZZERIA|                null|  2698266|          Restaurant|  Risk 1 (High)|     2755 W 71ST ST |CHICAGO|   IL|60629|     10/21/2019|             License|Pass w/ Conditions|5. PROCEDURES FOR...|  41.7644341645427|-87.69279450732276|(-87.692794507322...|                      null|     null|           null|         null| null|\n",
      "+-------------+--------------------+--------------------+---------+--------------------+---------------+--------------------+-------+-----+-----+---------------+--------------------+------------------+--------------------+------------------+------------------+--------------------+--------------------------+---------+---------------+-------------+-----+\n",
      "only showing top 20 rows\n",
      "\n",
      "root\n",
      " |-- Inspection ID: integer (nullable = true)\n",
      " |-- DBA Name: string (nullable = true)\n",
      " |-- AKA Name: string (nullable = true)\n",
      " |-- License #: integer (nullable = true)\n",
      " |-- Facility Type: string (nullable = true)\n",
      " |-- Risk: string (nullable = true)\n",
      " |-- Address: string (nullable = true)\n",
      " |-- City: string (nullable = true)\n",
      " |-- State: string (nullable = true)\n",
      " |-- Zip: integer (nullable = true)\n",
      " |-- Inspection Date: string (nullable = true)\n",
      " |-- Inspection Type: string (nullable = true)\n",
      " |-- Results: string (nullable = true)\n",
      " |-- Violations: string (nullable = true)\n",
      " |-- Latitude: double (nullable = true)\n",
      " |-- Longitude: double (nullable = true)\n",
      " |-- Location: string (nullable = true)\n",
      " |-- Historical Wards 2003-2015: string (nullable = true)\n",
      " |-- Zip Codes: string (nullable = true)\n",
      " |-- Community Areas: string (nullable = true)\n",
      " |-- Census Tracts: string (nullable = true)\n",
      " |-- Wards: string (nullable = true)\n",
      "\n"
     ]
    }
   ],
   "source": [
    "df1.show() \n",
    "df1.printSchema()"
   ]
  },
  {
   "cell_type": "code",
   "execution_count": 31,
   "metadata": {},
   "outputs": [],
   "source": [
    "inspections = df1.na.drop(subset=['Inspection ID','DBA Name', 'Results'])"
   ]
  },
  {
   "cell_type": "code",
   "execution_count": 32,
   "metadata": {
    "scrolled": true
   },
   "outputs": [
    {
     "name": "stdout",
     "output_type": "stream",
     "text": [
      "+-------------+--------------------+--------------------+---------+--------------------+---------------+--------------------+-------+-----+-----+---------------+--------------------+------------------+--------------------+------------------+------------------+--------------------+--------------------------+---------+---------------+-------------+-----+\n",
      "|Inspection ID|            DBA Name|            AKA Name|License #|       Facility Type|           Risk|             Address|   City|State|  Zip|Inspection Date|     Inspection Type|           Results|          Violations|          Latitude|         Longitude|            Location|Historical Wards 2003-2015|Zip Codes|Community Areas|Census Tracts|Wards|\n",
      "+-------------+--------------------+--------------------+---------+--------------------+---------------+--------------------+-------+-----+-----+---------------+--------------------+------------------+--------------------+------------------+------------------+--------------------+--------------------------+---------+---------------+-------------+-----+\n",
      "|      2320519|   SALAM  RESTAURANT|    SALAM RESTAURANT|  2002822|          Restaurant|  Risk 1 (High)|4634-4636 N KEDZI...|CHICAGO|   IL|60625|     10/25/2019|Complaint Re-Insp...|              Pass|                null|41.965719017423005|-87.70853756167853|(-87.708537561678...|                      null|     null|           null|         null| null|\n",
      "|      2320443|     JORDAN DISCOUNT|     JORDAN DISCOUNT|  2694525|       Grocery Store|   Risk 3 (Low)|  5254 W MADISON ST |CHICAGO|   IL|60644|     10/24/2019|License Re-Inspec...|              Pass|                null| 41.88045497430518|-87.75728976536573|(-87.757289765365...|                      null|     null|           null|         null| null|\n",
      "|      2320451|PRETTY COOL ICE C...|PRETTY COOL ICE C...|  2616833|          Restaurant|  Risk 1 (High)|2353 N CALIFORNIA...|CHICAGO|   IL|60647|     10/24/2019|             Canvass|              Pass|37. FOOD PROPERLY...| 41.92436282156778|-87.69725539567338|(-87.697255395673...|                      null|     null|           null|         null| null|\n",
      "|      2320388|      BOMBASTIC CAFE|      BOMBASTIC CAFE|  2678198|          Restaurant|Risk 2 (Medium)|3732 N SOUTHPORT ...|CHICAGO|   IL|60613|     10/24/2019|             License|              Fail|53. TOILET FACILI...| 41.94988264936109| -87.6642417785868|(-87.664241778586...|                      null|     null|           null|         null| null|\n",
      "|      2320389|ALL THINGS ARE PO...|ALL THINGS ARE PO...|  2215965|Children's Servic...|  Risk 1 (High)| 4014 W CHICAGO AVE |CHICAGO|   IL|60651|     10/24/2019|             License|              Pass|54. GARBAGE & REF...| 41.89546788877342| -87.7266648149535|(-87.726664814953...|                      null|     null|           null|         null| null|\n",
      "|      2320364|FIREWATER SALOON ...|FIREWATER SALOON ...|    15956|          Restaurant|  Risk 1 (High)|    3908 W 111TH ST |CHICAGO|   IL|60655|     10/24/2019|Complaint Re-Insp...|              Pass|                null|41.691406189233774|-87.71830607808162|(-87.718306078081...|                      null|     null|           null|         null| null|\n",
      "|      2320354|    AVLI RIVER NORTH|    AVLI RIVER NORTH|  2683658|          Restaurant|   Risk 3 (Low)| 700-702 N WELLS ST |CHICAGO|   IL|60654|     10/23/2019|             License|              Pass|                null| 41.89483049188808|-87.63430053853016|(-87.634300538530...|                      null|     null|           null|         null| null|\n",
      "|      2320439|  TAQUERIA LA CIUDAD|  TAQUERIA LA CIUDAD|  2631346|Mobile Food Preparer|Risk 2 (Medium)|3233-3237 W Cerma...|CHICAGO|   IL|60623|     10/23/2019|             License|          No Entry|                null| 41.85164288650078| -87.7064081112397|(-87.706408111239...|                      null|     null|           null|         null| null|\n",
      "|      2320347|GO! COMMISSARY AN...|GO! COMMISSARY AN...|  2269695|            Catering|  Risk 1 (High)|3211 W ARMITAGE AVE |CHICAGO|   IL|60647|     10/23/2019|             Canvass|   Out of Business|                null|41.917286920981006|-87.70745338783728|(-87.707453387837...|                      null|     null|           null|         null| null|\n",
      "|      2320315|SERENDIPITY CHILD...|SERENDIPITY CHILD...|  2216009|Daycare Above and...|  Risk 1 (High)|     1300 W 99TH ST |CHICAGO|   IL|60643|     10/23/2019|License Re-Inspec...|              Pass|                null|  41.7141680989703|-87.65529116028439|(-87.655291160284...|                      null|     null|           null|         null| null|\n",
      "|      2320343|              DO EAT|              DO EAT|  2492365|          Restaurant|  Risk 1 (High)|  3141 S HALSTED ST |CHICAGO|   IL|60608|     10/23/2019|           Complaint|          No Entry|                null|41.836871979178554|-87.64610208451234|(-87.646102084512...|                      null|     null|           null|         null| null|\n",
      "|      2320298|             HAISOUS|           CA PHE DA|  2464411|          Restaurant|  Risk 1 (High)|1800-1802 S CARPE...|CHICAGO|   IL|60608|     10/22/2019|             Canvass|              Pass|47. FOOD & NON-FO...|  41.8579631274509| -87.6533577347641|(-87.653357734764...|                      null|     null|           null|         null| null|\n",
      "|      2320278|       JERSEY MIKE'S|       JERSEY MIKE'S|  2694819|          Restaurant|            All|     225 S CANAL ST |CHICAGO|   IL|60606|     10/22/2019|             License|         Not Ready|                null|41.878531278353606|-87.63942745962717|(-87.639427459627...|                      null|     null|           null|         null| null|\n",
      "|      2320260|              GOPUFF|              GOPUFF|  2684560|       Grocery Store|   Risk 3 (Low)|  1801 W WARNER AVE |CHICAGO|   IL|60613|     10/22/2019|             License|              Fail|                null|41.956845683288854| -87.6743946694658|(-87.674394669465...|                      null|     null|           null|         null| null|\n",
      "|      2320255|    7-ELEVEN #35750A|            7-ELEVEN|  2688816|       Grocery Store|   Risk 3 (Low)|1658 N MILWAUKEE ...|CHICAGO|   IL|60647|     10/22/2019|             License|              Pass|                null|41.911442870211495|-87.67933447184733|(-87.679334471847...|                      null|     null|           null|         null| null|\n",
      "|      2320243|KREATIVE KIDZ ACA...|KREATIVE KIDZ ACA...|  2428901|Children's Servic...|  Risk 1 (High)|8236-8238 S COTTA...|CHICAGO|   IL|60619|     10/22/2019|             License|Pass w/ Conditions|22. PROPER COLD H...| 41.74468313979549|-87.60519976902937|(-87.605199769029...|                      null|     null|           null|         null| null|\n",
      "|      2320224|     GEORGIAN BAKERY|     GEORGIAN BAKERY|    53845|              Bakery|  Risk 1 (High)|   2812 W DEVON AVE |CHICAGO|   IL|60659|     10/21/2019|             Canvass|   Out of Business|                null| 41.99766054493654|  -87.700212519329|(-87.700212519329...|                      null|     null|           null|         null| null|\n",
      "|      2320233|#1 CHOP SUEY REST...|        #1 CHOP SUEY|  2695112|          Restaurant|  Risk 1 (High)|7342 S STONY ISLA...|CHICAGO|   IL|60649|     10/22/2019|             License|              Pass|                null| 41.76113827175918|-87.58634581379175|(-87.586345813791...|                      null|     null|           null|         null| null|\n",
      "|      2316201|   CORTLAND'S GARAGE|   CORTLAND'S GARAGE|  1914060|          Restaurant|  Risk 1 (High)| 1645 W CORTLAND ST |CHICAGO|   IL|60622|     10/21/2019|             Canvass|          No Entry|                null| 41.91597456632108|-87.66962157196225|(-87.669621571962...|                      null|     null|           null|         null| null|\n",
      "|      2316175|     ONESTI PIZZERIA|                null|  2698266|          Restaurant|  Risk 1 (High)|     2755 W 71ST ST |CHICAGO|   IL|60629|     10/21/2019|             License|Pass w/ Conditions|5. PROCEDURES FOR...|  41.7644341645427|-87.69279450732276|(-87.692794507322...|                      null|     null|           null|         null| null|\n",
      "+-------------+--------------------+--------------------+---------+--------------------+---------------+--------------------+-------+-----+-----+---------------+--------------------+------------------+--------------------+------------------+------------------+--------------------+--------------------------+---------+---------------+-------------+-----+\n",
      "only showing top 20 rows\n",
      "\n"
     ]
    }
   ],
   "source": [
    "inspections.show()"
   ]
  },
  {
   "cell_type": "code",
   "execution_count": 34,
   "metadata": {},
   "outputs": [],
   "source": [
    "nbre = df1.groupBy(\"Results\").count().sort(\"count\")"
   ]
  },
  {
   "cell_type": "code",
   "execution_count": 54,
   "metadata": {},
   "outputs": [
    {
     "name": "stdout",
     "output_type": "stream",
     "text": [
      "+--------------------+------+\n",
      "|             Results| count|\n",
      "+--------------------+------+\n",
      "|Business Not Located|    67|\n",
      "|           Not Ready|  1859|\n",
      "|            No Entry|  6188|\n",
      "|     Out of Business| 16784|\n",
      "|  Pass w/ Conditions| 26780|\n",
      "|                Fail| 37698|\n",
      "|                Pass|105528|\n",
      "+--------------------+------+\n",
      "\n",
      "== Parsed Logical Plan ==\n",
      "'Sort ['count ASC NULLS FIRST], true\n",
      "+- Aggregate [Results#1032], [Results#1032, count(1) AS count#1456L]\n",
      "   +- Relation[Inspection ID#1020,DBA Name#1021,AKA Name#1022,License ##1023,Facility Type#1024,Risk#1025,Address#1026,City#1027,State#1028,Zip#1029,Inspection Date#1030,Inspection Type#1031,Results#1032,Violations#1033,Latitude#1034,Longitude#1035,Location#1036,Historical Wards 2003-2015#1037,Zip Codes#1038,Community Areas#1039,Census Tracts#1040,Wards#1041] csv\n",
      "\n",
      "== Analyzed Logical Plan ==\n",
      "Results: string, count: bigint\n",
      "Sort [count#1456L ASC NULLS FIRST], true\n",
      "+- Aggregate [Results#1032], [Results#1032, count(1) AS count#1456L]\n",
      "   +- Relation[Inspection ID#1020,DBA Name#1021,AKA Name#1022,License ##1023,Facility Type#1024,Risk#1025,Address#1026,City#1027,State#1028,Zip#1029,Inspection Date#1030,Inspection Type#1031,Results#1032,Violations#1033,Latitude#1034,Longitude#1035,Location#1036,Historical Wards 2003-2015#1037,Zip Codes#1038,Community Areas#1039,Census Tracts#1040,Wards#1041] csv\n",
      "\n",
      "== Optimized Logical Plan ==\n",
      "Sort [count#1456L ASC NULLS FIRST], true\n",
      "+- Aggregate [Results#1032], [Results#1032, count(1) AS count#1456L]\n",
      "   +- Project [Results#1032]\n",
      "      +- Relation[Inspection ID#1020,DBA Name#1021,AKA Name#1022,License ##1023,Facility Type#1024,Risk#1025,Address#1026,City#1027,State#1028,Zip#1029,Inspection Date#1030,Inspection Type#1031,Results#1032,Violations#1033,Latitude#1034,Longitude#1035,Location#1036,Historical Wards 2003-2015#1037,Zip Codes#1038,Community Areas#1039,Census Tracts#1040,Wards#1041] csv\n",
      "\n",
      "== Physical Plan ==\n",
      "*(3) Sort [count#1456L ASC NULLS FIRST], true, 0\n",
      "+- Exchange rangepartitioning(count#1456L ASC NULLS FIRST, 200)\n",
      "   +- *(2) HashAggregate(keys=[Results#1032], functions=[count(1)], output=[Results#1032, count#1456L])\n",
      "      +- Exchange hashpartitioning(Results#1032, 200)\n",
      "         +- *(1) HashAggregate(keys=[Results#1032], functions=[partial_count(1)], output=[Results#1032, count#1466L])\n",
      "            +- *(1) FileScan csv [Results#1032] Batched: false, Format: CSV, Location: InMemoryFileIndex[file:/home/jovyan/work/food.csv], PartitionFilters: [], PushedFilters: [], ReadSchema: struct<Results:string>\n"
     ]
    },
    {
     "data": {
      "text/plain": [
       "DataFrame[summary: string, Results: string, count: string]"
      ]
     },
     "execution_count": 54,
     "metadata": {},
     "output_type": "execute_result"
    }
   ],
   "source": [
    "x = nbre.show() ##fonction d'affichage, les 4 premières lignes, toujours une dataframe, ne renvoie rien\n",
    "nbre.take(4) ##renvoie une liste\n",
    "nbre.explain(True) ##execution plan\n",
    "nbre.describe()"
   ]
  },
  {
   "cell_type": "code",
   "execution_count": 51,
   "metadata": {},
   "outputs": [],
   "source": [
    "def labelForResults(s):\n",
    "    if s == 'Fail':\n",
    "        return 0.0\n",
    "    elif s == 'Pass w/ Conditions' or s == 'Pass':\n",
    "        return 1.0\n",
    "    else:\n",
    "        return -1.0"
   ]
  },
  {
   "cell_type": "code",
   "execution_count": 53,
   "metadata": {},
   "outputs": [],
   "source": [
    "monudf = udf(labelForResults,DoubleType())"
   ]
  },
  {
   "cell_type": "code",
   "execution_count": 82,
   "metadata": {},
   "outputs": [],
   "source": [
    "labeledData = inspections.select(monudf(inspections[\"results\"])\n",
    ".alias('label'),\"violations\").where('label >= 0')"
   ]
  },
  {
   "cell_type": "code",
   "execution_count": 83,
   "metadata": {},
   "outputs": [
    {
     "name": "stdout",
     "output_type": "stream",
     "text": [
      "+-----+--------------------+\n",
      "|label|          violations|\n",
      "+-----+--------------------+\n",
      "|  1.0|                null|\n",
      "|  1.0|                null|\n",
      "|  1.0|37. FOOD PROPERLY...|\n",
      "|  0.0|53. TOILET FACILI...|\n",
      "|  1.0|54. GARBAGE & REF...|\n",
      "|  1.0|                null|\n",
      "|  1.0|                null|\n",
      "|  1.0|                null|\n",
      "|  1.0|47. FOOD & NON-FO...|\n",
      "|  0.0|                null|\n",
      "|  1.0|                null|\n",
      "|  1.0|22. PROPER COLD H...|\n",
      "|  1.0|                null|\n",
      "|  1.0|5. PROCEDURES FOR...|\n",
      "|  0.0|3. MANAGEMENT, FO...|\n",
      "|  1.0|                null|\n",
      "|  1.0|                null|\n",
      "|  0.0|3. MANAGEMENT, FO...|\n",
      "|  1.0|37. FOOD PROPERLY...|\n",
      "|  1.0|9. NO BARE HAND C...|\n",
      "+-----+--------------------+\n",
      "only showing top 20 rows\n",
      "\n"
     ]
    }
   ],
   "source": [
    "labeledData.show()"
   ]
  },
  {
   "cell_type": "code",
   "execution_count": 85,
   "metadata": {},
   "outputs": [],
   "source": [
    "training, validationDf = labeledData.randomSplit([0.25,0.75], 105)"
   ]
  },
  {
   "cell_type": "code",
   "execution_count": 86,
   "metadata": {},
   "outputs": [
    {
     "name": "stdout",
     "output_type": "stream",
     "text": [
      "+-----+----------+\n",
      "|label|violations|\n",
      "+-----+----------+\n",
      "|  0.0|      null|\n",
      "|  0.0|      null|\n",
      "|  0.0|      null|\n",
      "|  0.0|      null|\n",
      "|  0.0|      null|\n",
      "|  0.0|      null|\n",
      "|  0.0|      null|\n",
      "|  0.0|      null|\n",
      "|  0.0|      null|\n",
      "|  0.0|      null|\n",
      "|  0.0|      null|\n",
      "|  0.0|      null|\n",
      "|  0.0|      null|\n",
      "|  0.0|      null|\n",
      "|  0.0|      null|\n",
      "|  0.0|      null|\n",
      "|  0.0|      null|\n",
      "|  0.0|      null|\n",
      "|  0.0|      null|\n",
      "|  0.0|      null|\n",
      "|  0.0|      null|\n",
      "|  0.0|      null|\n",
      "|  0.0|      null|\n",
      "|  0.0|      null|\n",
      "|  0.0|      null|\n",
      "|  0.0|      null|\n",
      "|  0.0|      null|\n",
      "|  0.0|      null|\n",
      "|  0.0|      null|\n",
      "|  0.0|      null|\n",
      "|  0.0|      null|\n",
      "|  0.0|      null|\n",
      "|  0.0|      null|\n",
      "|  0.0|      null|\n",
      "|  0.0|      null|\n",
      "|  0.0|      null|\n",
      "|  0.0|      null|\n",
      "|  0.0|      null|\n",
      "|  0.0|      null|\n",
      "|  0.0|      null|\n",
      "|  0.0|      null|\n",
      "|  0.0|      null|\n",
      "|  0.0|      null|\n",
      "|  0.0|      null|\n",
      "|  0.0|      null|\n",
      "|  0.0|      null|\n",
      "|  0.0|      null|\n",
      "|  0.0|      null|\n",
      "|  0.0|      null|\n",
      "|  0.0|      null|\n",
      "|  0.0|      null|\n",
      "|  0.0|      null|\n",
      "|  0.0|      null|\n",
      "|  0.0|      null|\n",
      "|  0.0|      null|\n",
      "|  0.0|      null|\n",
      "|  0.0|      null|\n",
      "|  0.0|      null|\n",
      "|  0.0|      null|\n",
      "|  0.0|      null|\n",
      "|  0.0|      null|\n",
      "|  0.0|      null|\n",
      "|  0.0|      null|\n",
      "|  0.0|      null|\n",
      "|  0.0|      null|\n",
      "|  0.0|      null|\n",
      "|  0.0|      null|\n",
      "|  0.0|      null|\n",
      "|  0.0|      null|\n",
      "|  0.0|      null|\n",
      "|  0.0|      null|\n",
      "|  0.0|      null|\n",
      "|  0.0|      null|\n",
      "|  0.0|      null|\n",
      "|  0.0|      null|\n",
      "|  0.0|      null|\n",
      "|  0.0|      null|\n",
      "|  0.0|      null|\n",
      "|  0.0|      null|\n",
      "|  0.0|      null|\n",
      "|  0.0|      null|\n",
      "|  0.0|      null|\n",
      "|  0.0|      null|\n",
      "|  0.0|      null|\n",
      "|  0.0|      null|\n",
      "|  0.0|      null|\n",
      "|  0.0|      null|\n",
      "|  0.0|      null|\n",
      "|  0.0|      null|\n",
      "|  0.0|      null|\n",
      "|  0.0|      null|\n",
      "|  0.0|      null|\n",
      "|  0.0|      null|\n",
      "|  0.0|      null|\n",
      "|  0.0|      null|\n",
      "|  0.0|      null|\n",
      "|  0.0|      null|\n",
      "|  0.0|      null|\n",
      "|  0.0|      null|\n",
      "|  0.0|      null|\n",
      "+-----+----------+\n",
      "only showing top 100 rows\n",
      "\n"
     ]
    }
   ],
   "source": [
    "validationDf.show(100)"
   ]
  },
  {
   "cell_type": "code",
   "execution_count": null,
   "metadata": {},
   "outputs": [],
   "source": []
  }
 ],
 "metadata": {
  "kernelspec": {
   "display_name": "Python 3",
   "language": "python",
   "name": "python3"
  },
  "language_info": {
   "codemirror_mode": {
    "name": "ipython",
    "version": 3
   },
   "file_extension": ".py",
   "mimetype": "text/x-python",
   "name": "python",
   "nbconvert_exporter": "python",
   "pygments_lexer": "ipython3",
   "version": "3.7.3"
  }
 },
 "nbformat": 4,
 "nbformat_minor": 2
}
