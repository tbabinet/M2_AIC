{
 "cells": [
  {
   "cell_type": "code",
   "execution_count": 1,
   "metadata": {},
   "outputs": [],
   "source": [
    "# from Kaggle challenge : https://www.kaggle.com/c/titanic"
   ]
  },
  {
   "cell_type": "markdown",
   "metadata": {},
   "source": [
    "# Decision Tree Tutorial : Entropy"
   ]
  },
  {
   "cell_type": "code",
   "execution_count": 2,
   "metadata": {},
   "outputs": [],
   "source": [
    "import numpy as np \n",
    "import matplotlib.pyplot as plt \n",
    "# %matplotlib inline  \n",
    "import pandas as pd #for manipulating data "
   ]
  },
  {
   "cell_type": "code",
   "execution_count": 3,
   "metadata": {},
   "outputs": [],
   "source": [
    "def get_titanic_data():\n",
    "     \n",
    "    np.random.seed(42)\n",
    "    # get titanic & test csv files as a DataFrame\n",
    "    titanic_df = pd.read_csv(\"tp4-train_titanic.csv\", dtype={\"Age\": np.float64}, )\n",
    "\n",
    "    # drop unnecessary columns, these columns won't be useful in analysis and prediction\n",
    "    titanic_df = titanic_df.drop(['PassengerId', 'Name', 'Ticket', 'SibSp', 'Parch' , 'Fare', 'Cabin'], axis=1)\n",
    "\n",
    "\n",
    "    # only in titanic_df, fill the two missing values with the most occurred value, which is \"S\".\n",
    "    titanic_df[\"Embarked\"] = titanic_df[\"Embarked\"].fillna(\"S\")\n",
    "\n",
    "    # Age: values are missing, we replace them\n",
    "    # get average, std, and number of NaN values in titanic_df\n",
    "    average_age_titanic   = titanic_df[\"Age\"].mean()\n",
    "    std_age_titanic       = titanic_df[\"Age\"].std()\n",
    "    count_nan_age_titanic = titanic_df[\"Age\"].isnull().sum()\n",
    "    # generate random numbers between (mean - std) & (mean + std)\n",
    "    rand_1 = np.random.randint(average_age_titanic - std_age_titanic, average_age_titanic + std_age_titanic, size = count_nan_age_titanic)\n",
    "    titanic_df['Age'].dropna().astype(int)\n",
    "    # fill NaN values in Age column with random values generated   \n",
    "    titanic_df[\"Age\"] = titanic_df[\"Age\"].fillna(30)\n",
    "    # convert from float to int\n",
    "    titanic_df['Age'] = titanic_df['Age'].astype(int)\n",
    "    \n",
    "    # y contains the information we try to predit: did the passenger survive ?\n",
    "    y = titanic_df['Survived']\n",
    "    \n",
    "    # X contains useful data for classification\n",
    "    X = titanic_df.drop( [\"Survived\"], axis = 1)\n",
    "    print(\"X: données:\")\n",
    "    print(X.head())\n",
    "   \n",
    "    return X,y"
   ]
  },
  {
   "cell_type": "code",
   "execution_count": 4,
   "metadata": {},
   "outputs": [
    {
     "name": "stdout",
     "output_type": "stream",
     "text": [
      "X: données:\n",
      "   Pclass     Sex  Age Embarked\n",
      "0       3    male   22        S\n",
      "1       1  female   38        C\n",
      "2       3  female   26        S\n",
      "3       1  female   35        S\n",
      "4       3    male   35        S\n",
      "\n",
      "\n",
      "[22 38 26 35 35]\n",
      "['male' 'female' 'female' 'female' 'male']\n",
      "[0 1 1 1 0]\n",
      "[False  True False False False]\n",
      "[False False  True False False]\n"
     ]
    }
   ],
   "source": [
    "X, y = get_titanic_data()\n",
    "\"\"\"\n",
    "We access data using the name of the features as attributes of X:\n",
    "X.Pclass, X.Sex, X.age, X.Embarked , or equivalently:  X[\"Pclass\"], X[\"Sex\"], etc...\n",
    "We can also turn them into lists or vectors (arrays) :\n",
    "\"\"\"\n",
    "print(\"\\n\")\n",
    "print(np.array(X[\"Age\"])[:5])\n",
    "print(np.array(X[\"Sex\"])[:5])\n",
    "print(np.array(y)[:5])\n",
    "\"\"\"\n",
    "This makes data extraction easy:\n",
    "\"\"\"\n",
    "print(np.array((X['Age'] == 38)&(X['Sex'] == 'female'))[:5]) \n",
    "print(np.array((X['Age'] < 30)&(y == 1))[:5])\n",
    "t = (X['Sex'] < \"Mal\")&(y == 1))[:5]"
   ]
  },
  {
   "cell_type": "markdown",
   "metadata": {},
   "source": [
    "## Exercices : \n",
    "\n",
    "1. Exploration :\n",
    "    - Print the rate of survival, as a function of gender (i.e. prob(Survive | gender = female) et proba(Survive | gender = male)). \n",
    "    - Likewise for the class (1st class being morre expensive) and Boarding harbor (1 = Cherbourg; 2 = Queenstown; 3 = Southampton).\n",
    "    - Which feature seems most informative ?\n",
    "    - How could we apply this idea to age ? \n",
    "    \n",
    "    \n",
    "2. Analysis :\n",
    "    - Code the entropy function, for a Bernoulli variable, as a function of its parameter $p$. Plot it.        \n",
    "    - Compute the information gain $I$ provided by the gender variable.\n",
    "    - Likewise for class and bording harbor.\n",
    "    - Which factor effectively yields most information ?\n",
    "    - Same question with age ranges ?\n",
    "    - How to explain this advantage ? What is the inconvenient ?\n",
    "\n",
    "\n",
    "3. Model and prediction:\n",
    "    - For *tree.DecisionTreeClassifier()*, we need data to be numerical. Digitize the text data to match this expected input form. You should drop one feature (the least informative one).\n",
    "    - Using *tree.DecisionTreeClassifier()* (from *sklearn*), train a decision tree.\n",
    "    - Does the attribute *feature_importances* of *tree.DecisionTreeClassifier()* produce the same results as your hand-written analysis ?"
   ]
  },
  {
   "cell_type": "markdown",
   "metadata": {},
   "source": [
    "### Survival probability as a function of gender, boarding harbor, or ticket class :"
   ]
  },
  {
   "cell_type": "code",
   "execution_count": 24,
   "metadata": {},
   "outputs": [
    {
     "name": "stdout",
     "output_type": "stream",
     "text": [
      "female survival rate : 0.2615039281705948\n",
      "male survival rate : 0.122334455667789\n",
      "survival rate for 1st class : 0.1526374859708193\n",
      "survival rate for 2nd class : 0.09764309764309764\n",
      "survival rate for 3rd class : 0.1335578002244669\n",
      "survival rate for Cherbourg boarding : 0.10437710437710437\n",
      "survival rate for Queenstown boarding : 0.03367003367003367\n",
      "survival rate for Southampton boarding : 0.24579124579124578\n"
     ]
    }
   ],
   "source": [
    "#sex\n",
    "f_s = X[(X['Sex'] == \"female\")&(y == 1)]\n",
    "rate_f_s = f_s.shape[0]/X.shape[0]\n",
    "print(\"female survival rate :\",rate_f_s)\n",
    "m_s = X[(X['Sex'] == \"male\")&(y == 1)]\n",
    "rate_m_s = m_s.shape[0]/X.shape[0]\n",
    "print(\"male survival rate :\",rate_m_s)\n",
    "\n",
    "#Pclass\n",
    "c1_s = X[(X['Pclass'] == 1)&(y == 1)]\n",
    "rate_c1_s = c1_s.shape[0]/X.shape[0]\n",
    "print(\"survival rate for 1st class :\",rate_c1_s)\n",
    "c2_s = X[(X['Pclass'] == 2)&(y == 1)]\n",
    "rate_c2_s = c2_s.shape[0]/X.shape[0]\n",
    "print(\"survival rate for 2nd class :\",rate_c2_s)\n",
    "c3_s = X[(X['Pclass'] == 3)&(y == 1)]\n",
    "rate_c3_s = c3_s.shape[0]/X.shape[0]\n",
    "print(\"survival rate for 3rd class :\",rate_c3_s)\n",
    "\n",
    "#boarding harbor\n",
    "ch_s = X[(X['Embarked'] == \"C\")&(y == 1)]\n",
    "rate_ch_s = ch_s.shape[0]/X.shape[0]\n",
    "print(\"survival rate for Cherbourg boarding :\",rate_ch_s)\n",
    "q_s = X[(X['Embarked'] == \"Q\")&(y == 1)]\n",
    "rate_q_s = q_s.shape[0]/X.shape[0]\n",
    "print(\"survival rate for Queenstown boarding :\",rate_q_s)\n",
    "s_s = X[(X['Embarked'] == \"S\")&(y == 1)]\n",
    "rate_s_s = s_s.shape[0]/X.shape[0]\n",
    "print(\"survival rate for Southampton boarding :\",rate_s_s)\n",
    "\n",
    "##The boarding harbour seems to be very informative, as we can see big disparities in the survival rate when\n",
    "##considering boarding harbour only. Same for Sex. Pclass is slightly less relevent"
   ]
  },
  {
   "cell_type": "markdown",
   "metadata": {
    "collapsed": true
   },
   "source": [
    "### Entropy: "
   ]
  },
  {
   "cell_type": "code",
   "execution_count": 27,
   "metadata": {},
   "outputs": [
    {
     "name": "stderr",
     "output_type": "stream",
     "text": [
      "/opt/anaconda3/lib/python3.7/site-packages/ipykernel_launcher.py:8: RuntimeWarning: divide by zero encountered in log\n",
      "  \n",
      "/opt/anaconda3/lib/python3.7/site-packages/ipykernel_launcher.py:8: RuntimeWarning: invalid value encountered in double_scalars\n",
      "  \n"
     ]
    },
    {
     "data": {
      "text/plain": [
       "Text(0, 0.5, 'uncertainty')"
      ]
     },
     "execution_count": 27,
     "metadata": {},
     "output_type": "execute_result"
    },
    {
     "data": {
      "image/png": "[encoded data removed]",
      "text/plain": [
       "<Figure size 432x288 with 1 Axes>"
      ]
     },
     "metadata": {
      "needs_background": "light"
     },
     "output_type": "display_data"
    }
   ],
   "source": [
    "\"\"\"\n",
    "with p = Prob(survived | gender = female) \n",
    "I(gender) = -p * log(p) - (1-p) * log(1- p)\n",
    "Recall: a lower-I variable is more informative than a large one.\n",
    "\"\"\"\n",
    "\n",
    "def entropy(p):\n",
    "    return -p * np.log(p) - (1-p) * np.log(1- p)\n",
    "    \n",
    "list_p = np.arange(0.00,1.01,0.01)\n",
    "plt.plot(list_p, [entropy(p) for p in list_p])\n",
    "\n",
    "plt.title('Entropy function')\n",
    "plt.xlabel('p')\n",
    "plt.ylabel('uncertainty')"
   ]
  },
  {
   "cell_type": "code",
   "execution_count": 28,
   "metadata": {},
   "outputs": [],
   "source": [
    "def information_gain(p):\n",
    "    return -np.log(p)"
   ]
  },
  {
   "cell_type": "code",
   "execution_count": 30,
   "metadata": {},
   "outputs": [
    {
     "name": "stdout",
     "output_type": "stream",
     "text": [
      "information gain for male survival rate : 2.1009965452416655\n",
      "information gain for female survival rate : 1.3413059739051088\n",
      "information gain for 1st class survival rate : 1.8796895417347572\n",
      "information gain for 2nd class survival rate : 2.3264363088162257\n",
      "information gain for 3rd class survival rate : 2.0132209343592797\n",
      "information gain for S boarding survival rate : 1.4032726976543086\n",
      "information gain for Q boarding survival rate : 3.391147045808654\n",
      "information gain for Ch boarding survival rate : 2.2597449343175535\n"
     ]
    }
   ],
   "source": [
    "print(\"information gain for male survival rate :\" ,information_gain(rate_m_s))\n",
    "print(\"information gain for female survival rate :\" ,information_gain(rate_f_s))\n",
    "print(\"information gain for 1st class survival rate :\" ,information_gain(rate_c1_s))\n",
    "print(\"information gain for 2nd class survival rate :\" ,information_gain(rate_c2_s))\n",
    "print(\"information gain for 3rd class survival rate :\" ,information_gain(rate_c3_s))\n",
    "print(\"information gain for S boarding survival rate :\" ,information_gain(rate_s_s))\n",
    "print(\"information gain for Q boarding survival rate :\" ,information_gain(rate_q_s))\n",
    "print(\"information gain for Ch boarding survival rate :\" ,information_gain(rate_ch_s))"
   ]
  },
  {
   "cell_type": "code",
   "execution_count": null,
   "metadata": {},
   "outputs": [],
   "source": []
  }
 ],
 "metadata": {
  "anaconda-cloud": {},
  "kernelspec": {
   "display_name": "Python 3",
   "language": "python",
   "name": "python3"
  },
  "language_info": {
   "codemirror_mode": {
    "name": "ipython",
    "version": 3
   },
   "file_extension": ".py",
   "mimetype": "text/x-python",
   "name": "python",
   "nbconvert_exporter": "python",
   "pygments_lexer": "ipython3",
   "version": "3.7.3"
  }
 },
 "nbformat": 4,
 "nbformat_minor": 1
}
