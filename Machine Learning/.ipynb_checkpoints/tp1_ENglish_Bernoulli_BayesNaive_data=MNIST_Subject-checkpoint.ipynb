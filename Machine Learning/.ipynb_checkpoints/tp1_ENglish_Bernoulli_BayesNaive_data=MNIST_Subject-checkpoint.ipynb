{
 "cells": [
  {
   "cell_type": "markdown",
   "metadata": {},
   "source": [
    "## Jupyter Notebook:\n",
    "check a few things: how to save (Ctrl+S), how to run a code block (Caps+Enter),how to move (arrows), how to create a cell (find it yourself ! : browse the menus a bit before starting !).\n",
    "Note: in jupyter, like in ipython, if you just write a variable name at the end of your code (or running cell), its value will be displayed (you do not need to write \"print(myVariable)\", it's enough to write \"myVariable\")"
   ]
  },
  {
   "cell_type": "code",
   "execution_count": 1,
   "metadata": {},
   "outputs": [
    {
     "data": {
      "text/plain": [
       "'3.7.1'"
      ]
     },
     "execution_count": 1,
     "metadata": {},
     "output_type": "execute_result"
    }
   ],
   "source": [
    "from platform import python_version\n",
    "python_version()"
   ]
  },
  {
   "cell_type": "code",
   "execution_count": 2,
   "metadata": {},
   "outputs": [
    {
     "name": "stdout",
     "output_type": "stream",
     "text": [
      "3.7.1\n"
     ]
    },
    {
     "data": {
      "text/plain": [
       "'some string with some value, typed into the last line of the cell'"
      ]
     },
     "execution_count": 2,
     "metadata": {},
     "output_type": "execute_result"
    }
   ],
   "source": [
    "python_version()\n",
    "print(python_version()) #does the same as above\n",
    "\"some string with some value, typed into the last line of the cell\""
   ]
  },
  {
   "cell_type": "code",
   "execution_count": 3,
   "metadata": {},
   "outputs": [
    {
     "name": "stdout",
     "output_type": "stream",
     "text": [
      "3.7.1\n"
     ]
    },
    {
     "data": {
      "text/plain": [
       "'3.7.1'"
      ]
     },
     "execution_count": 3,
     "metadata": {},
     "output_type": "execute_result"
    }
   ],
   "source": [
    "print(python_version()) #does the same as above\n",
    "python_version()"
   ]
  },
  {
   "cell_type": "code",
   "execution_count": 4,
   "metadata": {},
   "outputs": [],
   "source": [
    "# ### this is useful only if you unfortunately run suing python2. If you run python3, these lines are effect-less.\n",
    "from __future__ import absolute_import\n",
    "from __future__ import division\n",
    "from __future__ import print_function"
   ]
  },
  {
   "cell_type": "markdown",
   "metadata": {
    "slideshow": {
     "slide_type": "-"
    }
   },
   "source": [
    "# Goal of the tutorial:\n",
    "\n",
    "The aim of this tutorial is to implement the Naive Bayesian calssifier on the MNIST image data set. (optionally, also on the 20newsgroups text data set).\n",
    "\n",
    "Let's begin with MNIST. It's in the GDrive, and may be accessed \"locally\" at: \n",
    "https://www.lri.fr/~flandes/share/ \n",
    "    \n",
    "MNIST contains images (observations, inputs) of single hand-written digits and the corresponding classes (labels, Ground Truth). \n",
    "So it is a 10-classes classification problem (0 to 9).\n",
    "\n",
    "\n",
    "## Loading the data"
   ]
  },
  {
   "cell_type": "code",
   "execution_count": 11,
   "metadata": {},
   "outputs": [
    {
     "name": "stdout",
     "output_type": "stream",
     "text": [
      "50000 training examples\n"
     ]
    }
   ],
   "source": [
    "import numpy as np\n",
    "import matplotlib\n",
    "import matplotlib.pyplot as plt \n",
    "#from ipywidgets import FloatProgress\n",
    "from IPython.display import display\n",
    "\n",
    "## Load the dataset -- (python2)\n",
    "import pickle, gzip\n",
    "with gzip.open('mnist.pkl.gz') as f :\n",
    "    u = pickle._Unpickler(f)\n",
    "    u.encoding = 'latin1'\n",
    "    p = u.load()\n",
    "    train_set, valid_set, test_set = p\n",
    "\n",
    "# ### Load the dataset -- (python3)\n",
    "# import pickle, gzip\n",
    "# with gzip.open('./tp1-mnist.pkl.gz','rb') as f :\n",
    "#     u = pickle._Unpickler( f )\n",
    "#     u.encoding = 'latin1'\n",
    "#     train_set, valid_set, test_set = u.load()\n",
    "\n",
    "NLABELS=10\n",
    "print(str(len(train_set[0]))+\" training examples\")\n",
    "# exemple: \n",
    "im    = train_set[0][0] # the first image\n",
    "label = train_set[1][0] # its label"
   ]
  },
  {
   "cell_type": "code",
   "execution_count": 12,
   "metadata": {},
   "outputs": [
    {
     "data": {
      "text/plain": [
       "<matplotlib.image.AxesImage at 0x1ba15af35c0>"
      ]
     },
     "execution_count": 12,
     "metadata": {},
     "output_type": "execute_result"
    },
    {
     "data": {
      "image/png": "[encoded data removed]",
      "text/plain": [
       "<Figure size 432x288 with 1 Axes>"
      ]
     },
     "metadata": {
      "needs_background": "light"
     },
     "output_type": "display_data"
    }
   ],
   "source": [
    "plt.imshow(im.reshape(28,28) , matplotlib.pyplot.cm.gray)    \n",
    "# plt.contourf(im.reshape(28,28))"
   ]
  },
  {
   "cell_type": "code",
   "execution_count": null,
   "metadata": {},
   "outputs": [],
   "source": []
  },
  {
   "cell_type": "markdown",
   "metadata": {},
   "source": [
    "## Content of data\n",
    "\n",
    "Images are stored as numpy arrays, where each line is an image, i.e. a 784-rows vector (28x28=784). Each pixel encodes a Grey value between 0 and 1.\n",
    "* What do train_set, valid_set, test_set contain ? (size, type, ... )\n",
    "* Write a function binarize_image(image, threshold) with a default threshold=0.5 to project an image onto binary pixels (black&white intead of grey levels)\n",
    "* Try various thresholds and look for differences."
   ]
  },
  {
   "cell_type": "code",
   "execution_count": 13,
   "metadata": {},
   "outputs": [],
   "source": [
    "def binarize_image(image, threshold=0.5):\n",
    "    binarized_image = image\n",
    "    for i in range(len(binarized_image)) :\n",
    "        if binarized_image[i] >= threshold:\n",
    "            binarized_image[i] = 1\n",
    "        else:\n",
    "            binarized_image[i] = 0\n",
    "    return binarized_image"
   ]
  },
  {
   "cell_type": "code",
   "execution_count": 14,
   "metadata": {},
   "outputs": [
    {
     "data": {
      "text/plain": [
       "array([0., 0., 0., 0., 0., 0., 0., 0., 0., 0., 0., 0., 0., 0., 0., 0., 0.,\n",
       "       0., 0., 0., 0., 0., 0., 0., 0., 0., 0., 0., 0., 0., 0., 0., 0., 0.,\n",
       "       0., 0., 0., 0., 0., 0., 0., 0., 0., 0., 0., 0., 0., 0., 0., 0., 0.,\n",
       "       0., 0., 0., 0., 0., 0., 0., 0., 0., 0., 0., 0., 0., 0., 0., 0., 0.,\n",
       "       0., 0., 0., 0., 0., 0., 0., 0., 0., 0., 0., 0., 0., 0., 0., 0., 0.,\n",
       "       0., 0., 0., 0., 0., 0., 0., 0., 0., 0., 0., 0., 0., 0., 0., 0., 0.,\n",
       "       0., 0., 0., 0., 0., 0., 0., 0., 0., 0., 0., 0., 0., 0., 0., 0., 0.,\n",
       "       0., 0., 0., 0., 0., 0., 0., 0., 0., 0., 0., 0., 0., 0., 0., 0., 0.,\n",
       "       0., 0., 0., 0., 0., 0., 0., 0., 0., 0., 0., 0., 0., 0., 0., 0., 0.,\n",
       "       0., 0., 0., 0., 1., 1., 0., 1., 1., 1., 0., 0., 0., 0., 0., 0., 0.,\n",
       "       0., 0., 0., 0., 0., 0., 0., 0., 0., 1., 1., 1., 1., 1., 1., 1., 1.,\n",
       "       1., 1., 1., 1., 0., 0., 0., 0., 0., 0., 0., 0., 0., 0., 0., 0., 0.,\n",
       "       1., 1., 1., 1., 1., 1., 1., 1., 1., 1., 0., 0., 0., 0., 0., 0., 0.,\n",
       "       0., 0., 0., 0., 0., 0., 0., 0., 0., 0., 0., 1., 1., 1., 1., 1., 1.,\n",
       "       1., 1., 1., 1., 0., 0., 0., 0., 0., 0., 0., 0., 0., 0., 0., 0., 0.,\n",
       "       0., 0., 0., 0., 0., 0., 1., 0., 1., 1., 1., 0., 0., 0., 1., 0., 0.,\n",
       "       0., 0., 0., 0., 0., 0., 0., 0., 0., 0., 0., 0., 0., 0., 0., 0., 0.,\n",
       "       0., 0., 1., 1., 0., 0., 0., 0., 0., 0., 0., 0., 0., 0., 0., 0., 0.,\n",
       "       0., 0., 0., 0., 0., 0., 0., 0., 0., 0., 0., 0., 0., 1., 1., 1., 0.,\n",
       "       0., 0., 0., 0., 0., 0., 0., 0., 0., 0., 0., 0., 0., 0., 0., 0., 0.,\n",
       "       0., 0., 0., 0., 0., 0., 0., 0., 1., 1., 0., 0., 0., 0., 0., 0., 0.,\n",
       "       0., 0., 0., 0., 0., 0., 0., 0., 0., 0., 0., 0., 0., 0., 0., 0., 0.,\n",
       "       0., 0., 0., 1., 1., 1., 0., 0., 0., 0., 0., 0., 0., 0., 0., 0., 0.,\n",
       "       0., 0., 0., 0., 0., 0., 0., 0., 0., 0., 0., 0., 0., 0., 0., 1., 1.,\n",
       "       1., 0., 0., 0., 0., 0., 0., 0., 0., 0., 0., 0., 0., 0., 0., 0., 0.,\n",
       "       0., 0., 0., 0., 0., 0., 0., 0., 0., 0., 1., 1., 1., 1., 0., 0., 0.,\n",
       "       0., 0., 0., 0., 0., 0., 0., 0., 0., 0., 0., 0., 0., 0., 0., 0., 0.,\n",
       "       0., 0., 0., 0., 0., 0., 1., 1., 1., 0., 0., 0., 0., 0., 0., 0., 0.,\n",
       "       0., 0., 0., 0., 0., 0., 0., 0., 0., 0., 0., 0., 0., 0., 0., 0., 0.,\n",
       "       1., 1., 1., 0., 0., 0., 0., 0., 0., 0., 0., 0., 0., 0., 0., 0., 0.,\n",
       "       0., 0., 0., 0., 0., 0., 0., 0., 0., 1., 1., 1., 1., 1., 0., 0., 0.,\n",
       "       0., 0., 0., 0., 0., 0., 0., 0., 0., 0., 0., 0., 0., 0., 0., 0., 0.,\n",
       "       0., 1., 1., 1., 1., 1., 1., 1., 0., 0., 0., 0., 0., 0., 0., 0., 0.,\n",
       "       0., 0., 0., 0., 0., 0., 0., 0., 0., 0., 0., 1., 1., 1., 1., 1., 1.,\n",
       "       0., 0., 0., 0., 0., 0., 0., 0., 0., 0., 0., 0., 0., 0., 0., 0., 0.,\n",
       "       0., 0., 0., 1., 1., 1., 1., 1., 1., 0., 0., 0., 0., 0., 0., 0., 0.,\n",
       "       0., 0., 0., 0., 0., 0., 0., 0., 0., 0., 0., 1., 1., 1., 1., 1., 1.,\n",
       "       1., 0., 0., 0., 0., 0., 0., 0., 0., 0., 0., 0., 0., 0., 0., 0., 0.,\n",
       "       0., 0., 0., 1., 1., 1., 1., 1., 1., 1., 1., 0., 0., 0., 0., 0., 0.,\n",
       "       0., 0., 0., 0., 0., 0., 0., 0., 0., 0., 0., 0., 0., 1., 1., 1., 1.,\n",
       "       1., 1., 1., 0., 0., 0., 0., 0., 0., 0., 0., 0., 0., 0., 0., 0., 0.,\n",
       "       0., 0., 0., 0., 0., 0., 0., 0., 0., 0., 0., 0., 0., 0., 0., 0., 0.,\n",
       "       0., 0., 0., 0., 0., 0., 0., 0., 0., 0., 0., 0., 0., 0., 0., 0., 0.,\n",
       "       0., 0., 0., 0., 0., 0., 0., 0., 0., 0., 0., 0., 0., 0., 0., 0., 0.,\n",
       "       0., 0., 0., 0., 0., 0., 0., 0., 0., 0., 0., 0., 0., 0., 0., 0., 0.,\n",
       "       0., 0., 0., 0., 0., 0., 0., 0., 0., 0., 0., 0., 0., 0., 0., 0., 0.,\n",
       "       0., 0.], dtype=float32)"
      ]
     },
     "execution_count": 14,
     "metadata": {},
     "output_type": "execute_result"
    }
   ],
   "source": [
    "binarize_image(im)"
   ]
  },
  {
   "cell_type": "markdown",
   "metadata": {},
   "source": [
    "## Getting to know the data\n",
    "Here are a few examples"
   ]
  },
  {
   "cell_type": "code",
   "execution_count": 33,
   "metadata": {
    "scrolled": true
   },
   "outputs": [
    {
     "name": "stdout",
     "output_type": "stream",
     "text": [
      "shape d'images  :(50000, 784)\n",
      "shape de labels :(50000,)\n",
      "val. max   1.0\n",
      "val. min   0.0\n",
      "val. mean  0.13256226\n",
      "val. var   0.114989415\n",
      "Nombre d'images dont le label est 5 :4506\n",
      "fives contains all images of which the label is 5, there number is:(4506, 784)\n"
     ]
    }
   ],
   "source": [
    "# getting images and their labels\n",
    "images_train = train_set[0]\n",
    "labels_train = train_set[1]\n",
    "images_test = test_set[0]\n",
    "labels_test = test_set[1]\n",
    "print(\"shape d'images  :\"+str(images.shape))\n",
    "print(\"shape de labels :\"+str(labels.shape))\n",
    "# values\n",
    "print(\"val. max  \", images_train.max())\n",
    "print(\"val. min  \", images_train.min())\n",
    "print(\"val. mean \", images_train.mean())\n",
    "print(\"val. var  \", images_train.var())\n",
    "\n",
    "\n",
    "# how many images represent the digit \"5\" ?\n",
    "print(\"Nombre d'images dont le label est 5 :\"+str((labels==5).sum()))\n",
    "# labels==5 returns an ndarray of same dimensionality as labels but filled with booleans.\n",
    "# if the label is 5, True (1), else, False (0).\n",
    "# On peut se servir de cet ndarray pour faire du slicing de images\n",
    "fives = (images_train[labels==5])\n",
    "print(\"fives contains all images of which the label is 5, there number is:\"+str(fives.shape))\n"
   ]
  },
  {
   "cell_type": "markdown",
   "metadata": {},
   "source": [
    "## Naive Bayesian (model chosen: Bernoulli)\n",
    "Observations (images) are initially continuous. We need to project these data onto the space accessible to our model. In the case of Bernoulli, each pixel can only be 0 or 1 (intermediate values cannot be sampled from a Bernoulli law).\n",
    "\n",
    "### pre-processing (of the data -what else?)\n",
    "\n",
    "- Apply the thresholding operation to all *train* and *test* data. (it may take ~O(1) minute: try your function on test images, they are fewer)\n",
    "- Check it on a couple of images.\n"
   ]
  },
  {
   "cell_type": "code",
   "execution_count": 34,
   "metadata": {
    "scrolled": true
   },
   "outputs": [
    {
     "name": "stdout",
     "output_type": "stream",
     "text": [
      "done\n"
     ]
    }
   ],
   "source": [
    "for image in images_train:\n",
    "    image = binarize_image(image)\n",
    "print(\"done\")"
   ]
  },
  {
   "cell_type": "code",
   "execution_count": 17,
   "metadata": {},
   "outputs": [
    {
     "name": "stdout",
     "output_type": "stream",
     "text": [
      "done\n"
     ]
    }
   ],
   "source": [
    "for image in images_test:\n",
    "    image = binarize_image(image)\n",
    "print(\"done\")"
   ]
  },
  {
   "cell_type": "code",
   "execution_count": 35,
   "metadata": {},
   "outputs": [
    {
     "data": {
      "text/plain": [
       "<matplotlib.image.AxesImage at 0x1ba16e37668>"
      ]
     },
     "execution_count": 35,
     "metadata": {},
     "output_type": "execute_result"
    },
    {
     "data": {
      "image/png": "[encoded data removed]",
      "text/plain": [
       "<Figure size 432x288 with 1 Axes>"
      ]
     },
     "metadata": {
      "needs_background": "light"
     },
     "output_type": "display_data"
    }
   ],
   "source": [
    "im = train_set[0][0] # the first image\n",
    "plt.imshow(im.reshape(28,28) , matplotlib.pyplot.cm.gray)    \n",
    "# plt.contourf(im.reshape(28,28))"
   ]
  },
  {
   "cell_type": "markdown",
   "metadata": {},
   "source": [
    "## Implementing the Naive Bayesian, Bernoulli\n",
    "\n",
    "To implement this classifier, there are only two steps:\n",
    "- estimating parameters $\\theta$ (including the prior probability for each class).\n",
    "- inference itself:\n",
    "    - knowing the parameters, return the posterior probability of classes\n",
    "    - (for each image) infer the class (given the model, and this image' data)\n",
    "\n",
    "\n",
    "To-do list:\n",
    "Before coding, **pen and paper** !\n",
    "- Which are the parameters $\\theta$? Define them precisely.\n",
    "- Write down the exact equations for each step; ideally, down to the pixel level.\n",
    "\n",
    "If you don't know how to start, start with the end: write down the probability P(y|X) (see your lecture notes)"
   ]
  },
  {
   "cell_type": "markdown",
   "metadata": {},
   "source": [
    "\n",
    "Now that **you know exactly what you want**, write down the functions needed.\n",
    "\n",
    "Check them at several stages: \n",
    "- represent the parameters as images or graphs, (choose adequately)\n",
    "- check your prediction on a couple of examples (not just 1 !!)"
   ]
  },
  {
   "cell_type": "code",
   "execution_count": 36,
   "metadata": {},
   "outputs": [],
   "source": [
    "## extract the parameters (those associated to each class, which are essentially \"representatives\")\n",
    "means = np.zeros([10,784])\n",
    "for lbl in range(10):\n",
    "    m = np.mean(images_train[labels==lbl], axis=0)\n",
    "    means[lbl]=m"
   ]
  },
  {
   "cell_type": "code",
   "execution_count": 37,
   "metadata": {},
   "outputs": [],
   "source": [
    "priors = np.zeros([10,1])"
   ]
  },
  {
   "cell_type": "code",
   "execution_count": 38,
   "metadata": {},
   "outputs": [
    {
     "name": "stdout",
     "output_type": "stream",
     "text": [
      "[[0.09864]\n",
      " [0.11356]\n",
      " [0.09936]\n",
      " [0.10202]\n",
      " [0.09718]\n",
      " [0.09012]\n",
      " [0.09902]\n",
      " [0.1035 ]\n",
      " [0.09684]\n",
      " [0.09976]]\n"
     ]
    }
   ],
   "source": [
    "## compute the priors (for each class)\n",
    "for cls in range(10):\n",
    "    imgs = images_train[labels==cls]\n",
    "    priors[cls] = len(imgs)/len(images_train)\n",
    "print(priors)"
   ]
  },
  {
   "cell_type": "code",
   "execution_count": 39,
   "metadata": {},
   "outputs": [
    {
     "data": {
      "text/plain": [
       "array([[-267.23601908],\n",
       "       [-322.25795823],\n",
       "       [-260.84494524],\n",
       "       [-202.0000344 ],\n",
       "       [-286.83824512],\n",
       "       [-200.24470776],\n",
       "       [-239.9123916 ],\n",
       "       [-265.58269681],\n",
       "       [-215.76063495],\n",
       "       [-272.62069064]])"
      ]
     },
     "execution_count": 39,
     "metadata": {},
     "output_type": "execute_result"
    }
   ],
   "source": [
    "## make a function that computes the posterior, for a given image\n",
    "# trick: when computing log(p), one should type log(1+EPSILON), to avoid float overflow errors (when p~0)\n",
    "def computePosteriors(image, EPSILON=1e-5):\n",
    "    posteriors = np.zeros([NLABELS,1])\n",
    "    for cls in range(10):\n",
    "        prior = priors[cls]\n",
    "        mean = means[cls]\n",
    "        non_zero = mean !=0\n",
    "        m1 = np.multiply(image[non_zero], np.log(mean[non_zero]))\n",
    "        m2 = np.multiply((1-image[non_zero]),np.log(1-mean[non_zero]))\n",
    "        s = np.sum(np.add(m1,m2))\n",
    "        posteriors[cls] = np.add(np.log(priors[cls]),s)\n",
    "    return posteriors\n",
    "\n",
    "computePosteriors(im)"
   ]
  },
  {
   "cell_type": "markdown",
   "metadata": {},
   "source": [
    "### [option 1: apply your function to all the train/test data]"
   ]
  },
  {
   "cell_type": "code",
   "execution_count": 40,
   "metadata": {},
   "outputs": [
    {
     "name": "stdout",
     "output_type": "stream",
     "text": [
      "(50000, 784)\n",
      "(10000, 784)\n"
     ]
    }
   ],
   "source": [
    "def makePrediction(images):\n",
    "    N = images.shape[0]\n",
    "    posteriorsAllImages = np.zeros([N])\n",
    "    for i in range(N):\n",
    "        posteriorsAllImages[i] = np.argmax(computePosteriors(images[i], EPSILON=1e-5))\n",
    "    return posteriorsAllImages\n",
    "\n",
    "prediction_train = makePrediction(images_train)\n",
    "prediction_test = makePrediction(images_test)"
   ]
  },
  {
   "cell_type": "code",
   "execution_count": 27,
   "metadata": {},
   "outputs": [
    {
     "name": "stdout",
     "output_type": "stream",
     "text": [
      "[7. 2. 1. ... 9. 8. 6.]\n"
     ]
    }
   ],
   "source": [
    "print(prediction_test)"
   ]
  },
  {
   "cell_type": "markdown",
   "metadata": {},
   "source": [
    "### [option 2: re-write your function in a more pythonic way, handling all images at once]"
   ]
  },
  {
   "cell_type": "code",
   "execution_count": null,
   "metadata": {},
   "outputs": [],
   "source": [
    "##[option 2]: much more pythonic: array-wise computation \n",
    "##(much much faster)\n",
    "def computePosteriorsAllImages(images, EPSILON=1e-5):\n",
    "    N = images.shape[0]\n",
    "    posteriorsAllImages = np.zeros([N, NLABELS])\n",
    "    ## TODO : re-write the inside of computePosteriors() here, accounting for the new shape of \"images\"\n",
    "    return posteriorsAllImages\n",
    "posteriorsAllImages = computePosteriors(images_train)\n",
    "prediction_test ## = TODO: one-liner, same as above, but again, array shapes are slightly different\n",
    "#prediction_train ## = TODO (same as above)"
   ]
  },
  {
   "cell_type": "markdown",
   "metadata": {},
   "source": [
    "note: \n",
    "\n",
    "at this point, you should have two arrays, *prediction_test_data* and *prediction_train*\n",
    "\n",
    "## evaluation of the quality of the classifier\n",
    "evaluate the classifier on the test data:\n",
    "- compute the error rate\n",
    "- show the confusion matrix\n"
   ]
  },
  {
   "cell_type": "code",
   "execution_count": 48,
   "metadata": {},
   "outputs": [
    {
     "name": "stdout",
     "output_type": "stream",
     "text": [
      "()\n",
      "0.8354\n"
     ]
    }
   ],
   "source": [
    "tx=0\n",
    "confusion = np.zeros([NLABELS,NLABELS])\n",
    "print(images[1][0].shape)\n",
    "for i in range(len(prediction_test)):\n",
    "    if(prediction_train[i]==train_set[1][i]):\n",
    "        tx+=1\n",
    "    confusion[int(prediction_train[i])][train_set[1][i]]+=1\n",
    "tx/=len(prediction_test)\n",
    "print(tx)"
   ]
  },
  {
   "cell_type": "code",
   "execution_count": 49,
   "metadata": {},
   "outputs": [
    {
     "data": {
      "image/png": "[encoded data removed]",
      "text/plain": [
       "<Figure size 432x288 with 2 Axes>"
      ]
     },
     "metadata": {
      "needs_background": "light"
     },
     "output_type": "display_data"
    }
   ],
   "source": [
    "## showing the confusion matrix with a color map (\"heat map\")\n",
    "import pylab as pl\n",
    "fig = plt.figure()\n",
    "ax = fig.add_subplot(111)\n",
    "cax = ax.matshow(confusion)\n",
    "pl.title('Confusion matrix of the classifier')\n",
    "fig.colorbar(cax)\n",
    "pl.xlabel('True')\n",
    "pl.ylabel('Pred.')\n",
    "pl.show()"
   ]
  },
  {
   "cell_type": "markdown",
   "metadata": {
    "collapsed": true
   },
   "source": [
    "## checking using SciKit-learn\n",
    "\n",
    "We're going to check results by cmparing with SKlearn's implementation' output.\n",
    "- reproduce the experiment, using \n",
    "- try also with a Gaussian model (still Naive Bayes, but Gaussian instead of Bernoulli, still in SKlearn)"
   ]
  },
  {
   "cell_type": "code",
   "execution_count": 67,
   "metadata": {},
   "outputs": [
    {
     "data": {
      "text/plain": [
       "BernoulliNB(alpha=1.0, binarize=0.0, class_prior=None, fit_prior=True)"
      ]
     },
     "execution_count": 67,
     "metadata": {},
     "output_type": "execute_result"
    }
   ],
   "source": [
    "## TODO: choose which class you want to use from the package sklearn.naive_bayes\n",
    "from sklearn.naive_bayes import GaussianNB, BernoulliNB\n",
    "clf_mnist_gaussian = GaussianNB()\n",
    "clf_mnist_gaussian.fit(train_set[0], train_set[1])\n",
    "clf_mnist_bernoulli = BernoulliNB()\n",
    "clf_mnist_bernoulli.fit(images_train, train_set[1])\n",
    "## note: for a Gaussian model, use the data BEFORE binarization."
   ]
  },
  {
   "cell_type": "code",
   "execution_count": 69,
   "metadata": {},
   "outputs": [
    {
     "name": "stdout",
     "output_type": "stream",
     "text": [
      "gaussian :  0.5418\n",
      "bernoulli :  0.8437\n"
     ]
    }
   ],
   "source": [
    "print('gaussian : ', clf_mnist_gaussian.score(test_set[0], test_set[1]))\n",
    "\n",
    "print('bernoulli : ', clf_mnist_bernoulli.score(test_set[0], test_set[1]))"
   ]
  },
  {
   "cell_type": "markdown",
   "metadata": {},
   "source": [
    "# Second Example"
   ]
  },
  {
   "cell_type": "markdown",
   "metadata": {
    "collapsed": true
   },
   "source": [
    "# Sparse data : 20newsgroups\n",
    "\n",
    "Let's hop to text classification. Texts are characterized by very sparse distributions (of words).\n",
    "\n",
    "We'll use the dataset 20newsgroups, which is available within SKlearn."
   ]
  },
  {
   "cell_type": "code",
   "execution_count": 42,
   "metadata": {},
   "outputs": [
    {
     "name": "stderr",
     "output_type": "stream",
     "text": [
      "Downloading 20news dataset. This may take a few minutes.\n",
      "Downloading dataset from https://ndownloader.figshare.com/files/5975967 (14 MB)\n"
     ]
    }
   ],
   "source": [
    "from sklearn.datasets import fetch_20newsgroups\n",
    "categories=None\n",
    "data_train = fetch_20newsgroups(subset='train', categories=categories,\n",
    "                                shuffle=True, random_state=42)\n",
    "\n",
    "data_test = fetch_20newsgroups(subset='test', categories=categories,\n",
    "                               shuffle=True, random_state=42,)\n",
    "\n",
    "from sklearn.feature_extraction.text import HashingVectorizer\n",
    "vectorizer = HashingVectorizer(stop_words='english',binary=True)\n",
    "X_train = vectorizer.transform(data_train.data)\n",
    "X_test = vectorizer.transform(data_test.data)\n",
    "\n",
    "# test set\n",
    "y_train, y_test = data_train.target, data_test.target"
   ]
  },
  {
   "cell_type": "markdown",
   "metadata": {},
   "source": [
    "- Describe the data (size, type..)"
   ]
  },
  {
   "cell_type": "code",
   "execution_count": 53,
   "metadata": {},
   "outputs": [
    {
     "name": "stdout",
     "output_type": "stream",
     "text": [
      "(11314, 1048576)\n"
     ]
    }
   ],
   "source": [
    "print(X_train.shape)"
   ]
  },
  {
   "cell_type": "markdown",
   "metadata": {},
   "source": [
    "- Train and test the Bernoulli Bayesian classifier using SKlearn's default (hyper-parameters) values"
   ]
  },
  {
   "cell_type": "code",
   "execution_count": 73,
   "metadata": {},
   "outputs": [
    {
     "data": {
      "text/plain": [
       "0.5131439192777483"
      ]
     },
     "execution_count": 73,
     "metadata": {},
     "output_type": "execute_result"
    }
   ],
   "source": [
    "clf = BernoulliNB()\n",
    "clf.fit(X_train,y_train)\n",
    "\n",
    "\n"
   ]
  },
  {
   "cell_type": "code",
   "execution_count": 75,
   "metadata": {},
   "outputs": [
    {
     "name": "stdout",
     "output_type": "stream",
     "text": [
      "0.5131439192777483\n",
      "BernoulliNB(alpha=1.0, binarize=0.0, class_prior=None, fit_prior=True)\n"
     ]
    }
   ],
   "source": [
    "print(clf.score(X_test,y_test))\n",
    "print(clf)"
   ]
  },
  {
   "cell_type": "markdown",
   "metadata": {},
   "source": [
    "- What are these default parameters ? What do they mean and what values were chosen / What choices were chosen ?\n",
    "- How to get a classifier without smoothing ? Do you expect it to work better ?"
   ]
  },
  {
   "cell_type": "code",
   "execution_count": null,
   "metadata": {},
   "outputs": [],
   "source": []
  },
  {
   "cell_type": "markdown",
   "metadata": {},
   "source": [
    "## Impact of smoothing\n",
    "\n",
    "- Try out several smoothing constants, from $1$ to $10^{-15}$ by steps of factors of $10$\n",
    "- compute and report the train and test error rates for each\n"
   ]
  },
  {
   "cell_type": "code",
   "execution_count": null,
   "metadata": {},
   "outputs": [],
   "source": []
  },
  {
   "cell_type": "markdown",
   "metadata": {},
   "source": [
    "- Plot the curves for these error rates as a function of the smoothing constant(code given below)\n",
    "- What do you see ? Explain."
   ]
  },
  {
   "cell_type": "code",
   "execution_count": null,
   "metadata": {},
   "outputs": [],
   "source": [
    "fig = plt.figure()\n",
    "ax = fig.add_subplot(111)\n",
    "ax.set_xscale(\"log\")\n",
    "ax.plot(alphas, Test_score, 'x-')\n",
    "ax.plot(alphas, Train_score, 'o-')\n",
    "pl.title('Training and Testing score for different values of smoothing')\n",
    "pl.xlabel('Smoothing')\n",
    "pl.ylabel('Score')\n",
    "pl.show() "
   ]
  },
  {
   "cell_type": "markdown",
   "metadata": {},
   "source": [
    "Congratulations ! You have performed your first hyper-parameter optimization ! \n",
    "\n",
    "Now the need for a third independent set (a.k.a. the vlaidation set) should be very clear to you."
   ]
  },
  {
   "cell_type": "markdown",
   "metadata": {},
   "source": [
    "## Multinomial classifier\n",
    "\n",
    "see https://en.wikipedia.org/wiki/Multinomial_distribution for catching-up on maths.\n",
    "\n",
    "same questions: (Copy-Paste is your friend, whis question may take you less than 5 min)\n",
    "- train and test the SKlearn model with default parameters\n",
    "- What are these default parameters ? What do they mean and what values were chosen / What choices were chosen ?\n",
    "- What is the impact of smoothing ?"
   ]
  },
  {
   "cell_type": "code",
   "execution_count": null,
   "metadata": {},
   "outputs": [],
   "source": []
  },
  {
   "cell_type": "markdown",
   "metadata": {},
   "source": [
    "## Crucial point: did we \"cheat\" ?\n",
    "- Visualize a couple more data examples, in particular take them all from the same class. Isn't there some piece  of information that we use here, and which looks a bit like \"cheating\" ?\n",
    "- Now import data, again using *sklearn.datasets.fetch_20newsgroups()*, but with other values for the argument \"remove\". How do your classifiers (Bernoulli / Multionmial) change ? \n",
    "- Why ? What do you think of this ?"
   ]
  },
  {
   "cell_type": "code",
   "execution_count": null,
   "metadata": {},
   "outputs": [],
   "source": []
  },
  {
   "cell_type": "markdown",
   "metadata": {},
   "source": [
    "## Think a bit about what you did\n",
    "\n",
    "What did we do here ? How much did we build an AI ? In the image case, independence of the pixels had a very clear interpretation.  Here as well, the \"Naive\" assumption of independence has a very clear interpretation. What do you think of this assumption ? \n",
    "\n",
    "Do you think this kind of method would work for any serious NLP task ? (e.g. translation)"
   ]
  },
  {
   "cell_type": "code",
   "execution_count": null,
   "metadata": {},
   "outputs": [],
   "source": []
  }
 ],
 "metadata": {
  "anaconda-cloud": {},
  "kernelspec": {
   "display_name": "Python 3",
   "language": "python",
   "name": "python3"
  },
  "language_info": {
   "codemirror_mode": {
    "name": "ipython",
    "version": 3
   },
   "file_extension": ".py",
   "mimetype": "text/x-python",
   "name": "python",
   "nbconvert_exporter": "python",
   "pygments_lexer": "ipython3",
   "version": "3.7.1"
  }
 },
 "nbformat": 4,
 "nbformat_minor": 1
}
