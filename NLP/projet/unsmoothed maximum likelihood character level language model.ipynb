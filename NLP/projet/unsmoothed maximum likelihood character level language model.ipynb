{
 "cells": [
  {
   "cell_type": "code",
   "execution_count": 72,
   "metadata": {},
   "outputs": [],
   "source": [
    "from collections import *\n",
    "import sys\n",
    "import os\n",
    "from random import random\n",
    "import nltk.tokenize as tokenizer"
   ]
  },
  {
   "cell_type": "code",
   "execution_count": 47,
   "metadata": {},
   "outputs": [],
   "source": [
    "###Unsmoothed Maximum Likelihood Character Level Language Model\n",
    "\n",
    "def train_char_lm(data, order=4):\n",
    "    lm = defaultdict(Counter)\n",
    "    pad = \"~\" * order\n",
    "    data = pad + data\n",
    "    for i in range(len(data)-order):\n",
    "        history, char = data[i:i+order], data[i+order]\n",
    "        lm[history][char]+=1\n",
    "        \n",
    "    def normalize(counter):\n",
    "        s = float(sum(counter.values()))\n",
    "        return [(c,cnt/s) for c,cnt in counter.items()]\n",
    "\n",
    "    outlm = {hist:normalize(chars) for hist, chars in lm.items()}\n",
    "    return outlm\n",
    "\n",
    "def generate_letter(lm, history, order):\n",
    "        history = history[-order:]\n",
    "        dist = lm[history]\n",
    "        x = random()\n",
    "        for c,v in dist:\n",
    "            x = x - v\n",
    "            if x <= 0: return c\n",
    "            \n",
    "def generate_text(lm, order, nletters=1000):\n",
    "    history = \"~\" * order\n",
    "    out = []\n",
    "    for i in range(nletters):\n",
    "        c = generate_letter(lm, history, order)\n",
    "        history = history[-order:] + c\n",
    "        out.append(c)\n",
    "    return \"\".join(out)"
   ]
  },
  {
   "cell_type": "code",
   "execution_count": 78,
   "metadata": {},
   "outputs": [],
   "source": [
    "directory = \"rap/Pnl\"\n",
    "all_sons = \"\"\n",
    "for album in os.listdir(directory):\n",
    "    dir_album = \"{}/{}\".format(directory, album)\n",
    "    for son in os.listdir(dir_album):\n",
    "        adr = \"{}/{}\".format(dir_album,son)\n",
    "        with open(adr, 'rb') as f:\n",
    "            data = f.read()\n",
    "            decoded_data = data.decode('latin-1')\n",
    "            all_sons+=decoded_data"
   ]
  },
  {
   "cell_type": "code",
   "execution_count": 79,
   "metadata": {},
   "outputs": [],
   "source": [
    "lm = train_char_lm(all_sons, order=1)"
   ]
  },
  {
   "cell_type": "code",
   "execution_count": 69,
   "metadata": {},
   "outputs": [
    {
     "name": "stdout",
     "output_type": "stream",
     "text": [
      "[Couplet 1 - Ademo]\n",
      "Ma frappe y'a personne qui larrête\n",
      "Penalty j'souris au gardien\n",
      "Igo y'a Mowgli dans la jungle, loin des hommes\n",
      "T'as goûté à la vie, re-goûte à la merde\n",
      "Elle m'kiffe pas, elle kiffe la villa, ça fera l'affaire\n",
      "Penche-toi sur mon présent bitch, dans ton cul j'vois l'avenir\n",
      "Le temps passe sur ton visage, le chrono' m'fait mal au bide\n",
      "J'vois l'monde un peu à l'envers\n",
      "J'attire les putes blanches aux sentiments noirs\n",
      "\n",
      "[Refrain : Ademo]\n",
      "Au DD\n",
      "J'la passe, la détaille, la pé-cou, la vi-sser, des regrets d'vant ton bébé\n",
      "J'sors de chez toi, j'reprends ta voiture mal garée puis j'retire ton PV\n",
      "J'recherche un billet, des affaires, des plans dans la planque, un peu trop peiné\n",
      "J'fais un bisou à mes cafards dans la cave du six, les pectoraux gainés\n",
      "Les BACqueux té-ma parce que les ients-cli ne tomberont jamais sur messagerie\n",
      "Eh, poto, démarre dans la jungle, j'ai Allah qui me guide\n",
      "Chang, j'suis Mowgli, j'suis Simba, animal ça s'entend\n",
      "Hum, hum, dans leurs mères, tu connais\n",
      "\n",
      "[Refrain - Ademo]\n",
      "La vérité c'est qu'j'suis autant obsédé par l'argent\n",
      "Que j'suis to-to-totalement pété\n",
      "J'rentre coke dans les poches, quand p'tit frère part à l'école\n",
      "\n",
      "[Refrain: Ademo]\n",
      "J'suis dans un monde hypocrite, kryptonite en bas, je sème\n",
      "J'te lance un son tu connais, ta tête touche le bas du sol\n",
      "Non j'rêve plus trop, j'suis poli\n",
      "J'parle plus trop, j'ressors, j'visser\n",
      "Coeur de glace sans rigoler, moi j'suis pas, j'suis pas d'humeur\n",
      "\n",
      "[Couplet 2 : Ademo]\n",
      "Hemi, hemi, hemi\n",
      "F-F dans la caisse\n",
      "Casse un tour longue est la laisse, mon ange tu connais l'adresse\n",
      "J't'encule sur l'continent d'Hadès\n",
      "Sale comme ta neuch, mèche courte\n",
      "Forte comme la ppe-f' qu'j'écoule\n",
      "J'tire la gueule, j'n'écoute\n",
      "Que mon âme seule, mektoub\n",
      "J'vis dans un rêve érotique\n",
      "Où j'parle peu mais j'caresse le monde\n",
      "J'meurs dans un cauchemar exotique\n",
      "Où la Terre ressemble à ma tombe\n",
      "\n",
      "[Pont : Ademo]\n",
      "J'suis dans ta ville, j'suis dans ta rue\n",
      "En bas c'est dead, j'souris à l'envers\n",
      "J'suis dans ta ville, j'suis dans ta rue\n",
      "J'm'en bats les couilles au moins 7 balles assurées\n",
      "Veux voir c'que c'est d'être en haut, au rez-de-chaussée posté dans l'hall\n",
      "Le temps coule comme le liquide, vi-ser la foule vi-ser les vils-ci\n",
      "Rêve toujours de cette maison sur la mer\n",
      "Y'a eu des bons moments mais beaucoup moins qu'ce noir qui s'installe dans mon regard, dans mon miroir\n",
      "Igo, c'est no comment, vécu d'poissard, va savoir pourquoi\n",
      "Les bastos sont là, si je t'ai raté, merlich, la deuxième elle sera pour toi\n",
      "Igo, plein d'rancune on n'oublie rien donc on t'lâche un sourire sournois\n",
      "La vida loca, dans le pif la coca, my bitches love Sosa\n",
      "Isolé, le cur noir, la confiance j'l'ai rangée dans l'armoire\n",
      "C'est tout pour le fric, détaille le shit igo, on s'refait dans moins d'un mois\n",
      "Bénef' bénef', lève ton joint en l'air, t'as pas capté encore ? L'avenir est à moi\n",
      "Quenelle, quenelle dans la chatte à vos mères, bloc de seum en direct du parloir\n",
      "Ils font les fous, c'est que des huîtres ma gueule\n",
      "Tu m'dois des sous, dis-moi pourquoi pourquoi t\n"
     ]
    }
   ],
   "source": [
    "print(generate_text(lm, 15, nletters=3000))"
   ]
  },
  {
   "cell_type": "code",
   "execution_count": null,
   "metadata": {},
   "outputs": [],
   "source": []
  }
 ],
 "metadata": {
  "kernelspec": {
   "display_name": "Python 3",
   "language": "python",
   "name": "python3"
  },
  "language_info": {
   "codemirror_mode": {
    "name": "ipython",
    "version": 3
   },
   "file_extension": ".py",
   "mimetype": "text/x-python",
   "name": "python",
   "nbconvert_exporter": "python",
   "pygments_lexer": "ipython3",
   "version": "3.7.3"
  }
 },
 "nbformat": 4,
 "nbformat_minor": 2
}
