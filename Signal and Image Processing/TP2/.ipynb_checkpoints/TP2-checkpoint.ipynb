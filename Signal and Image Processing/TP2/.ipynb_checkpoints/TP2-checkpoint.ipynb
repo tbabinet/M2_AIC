{
 "cells": [
  {
   "cell_type": "code",
   "execution_count": 4,
   "metadata": {},
   "outputs": [],
   "source": [
    "import numpy as np\n",
    "import matplotlib.pyplot as plt\n",
    "from scipy.io import wavfile as wav\n",
    "from scipy.fftpack import fft\n",
    "from math import pi, sin\n",
    "from scipy import signal\n",
    "import sys"
   ]
  },
  {
   "cell_type": "code",
   "execution_count": 2,
   "metadata": {},
   "outputs": [
    {
     "name": "stdout",
     "output_type": "stream",
     "text": [
      "frequence d'echantillonnage :  44100\n",
      "frequence d'echantillonnage :  22050\n",
      "frequence d'echantillonnage :  22050\n"
     ]
    }
   ],
   "source": [
    "rate_1, data = wav.read('../string1.wav')\n",
    "data_1 = data[:,0]\n",
    "print(\"frequence d'echantillonnage : \", rate_1)\n",
    "\n",
    "rate_2, data_2 = wav.read('../string2.wav')\n",
    "print(\"frequence d'echantillonnage : \", rate_2)\n",
    "\n",
    "rate_3, data_3 = wav.read('../string3.wav')\n",
    "print(\"frequence d'echantillonnage : \", rate_3)"
   ]
  },
  {
   "cell_type": "code",
   "execution_count": 41,
   "metadata": {},
   "outputs": [],
   "source": [
    "eps = sys.float_info.epsilon\n",
    "D = 22500\n",
    "alpha_fir = 0.5\n",
    "T = len(data_1)\n",
    "#Impulse response\n",
    "h_s = [1]\n",
    "for i in range(0, D-1):\n",
    "    h_s.append(0)\n",
    "h_s.append(alpha_fir)\n",
    "\n",
    "w, h = signal.freqz(h_s, 1, worN=round(T/2), fs=rate_1)"
   ]
  },
  {
   "cell_type": "code",
   "execution_count": 43,
   "metadata": {},
   "outputs": [
    {
     "name": "stdout",
     "output_type": "stream",
     "text": [
      "118784 118784\n"
     ]
    }
   ],
   "source": [
    "print(len(h), len(w))"
   ]
  },
  {
   "cell_type": "code",
   "execution_count": 44,
   "metadata": {},
   "outputs": [
    {
     "data": {
      "image/png": "[encoded data removed]",
      "text/plain": [
       "<Figure size 432x288 with 1 Axes>"
      ]
     },
     "metadata": {
      "needs_background": "light"
     },
     "output_type": "display_data"
    }
   ],
   "source": [
    "plt.plot(20*np.log(np.abs(w)+eps), 20*np.log(np.abs(h)+eps))\n",
    "plt.show()"
   ]
  },
  {
   "cell_type": "code",
   "execution_count": 39,
   "metadata": {},
   "outputs": [
    {
     "name": "stdout",
     "output_type": "stream",
     "text": [
      "[  41   55   63 ... -108  -92 -113]\n"
     ]
    }
   ],
   "source": [
    "fir = []\n",
    "for i in range(0,D-1):\n",
    "    fir.append(data_1[i])\n",
    "for i in range(D, len(data_1)-1):\n",
    "    fir.append(data_1[i]+alpha_fir*data_1[i-D])\n",
    "fir = np.asarray(fir, dtype=np.int16)"
   ]
  },
  {
   "cell_type": "code",
   "execution_count": 40,
   "metadata": {},
   "outputs": [],
   "source": [
    "wav.write(\"fir.wav\", rate_1, fir)"
   ]
  },
  {
   "cell_type": "code",
   "execution_count": 62,
   "metadata": {},
   "outputs": [
    {
     "data": {
      "image/png": "[encoded data removed]",
      "text/plain": [
       "<Figure size 432x288 with 1 Axes>"
      ]
     },
     "metadata": {
      "needs_background": "light"
     },
     "output_type": "display_data"
    }
   ],
   "source": [
    "D = 10\n",
    "alpha_iir = 0.5\n",
    "beta_iir = 0.4\n",
    "T = len(data_1)\n",
    "#Impulse response\n",
    "A = [alpha_iir]\n",
    "B = [1]\n",
    "for i in range(0, D-1):\n",
    "    B.append(0)\n",
    "B.append(-beta_iir)\n",
    "\n",
    "w, h = signal.freqz(A, B, worN=round(T/2), fs=rate_1)\n",
    "plt.plot(20*np.log(np.abs(w)+eps), 20*np.log(np.abs(h)+eps))\n",
    "plt.show()"
   ]
  },
  {
   "cell_type": "code",
   "execution_count": 55,
   "metadata": {},
   "outputs": [],
   "source": [
    "iir = []\n",
    "for i in range(0,D-1):\n",
    "    iir.append(alpha_iir*data_1[i])\n",
    "for i in range(D, len(data_1)-1):\n",
    "    iir.append(alpha_iir*data_1[i]+beta_iir*iir[i-D])\n",
    "iir = np.asarray(iir, dtype=np.int16)"
   ]
  },
  {
   "cell_type": "code",
   "execution_count": 56,
   "metadata": {},
   "outputs": [],
   "source": [
    "wav.write(\"iir.wav\", rate_1, iir)"
   ]
  },
  {
   "cell_type": "code",
   "execution_count": null,
   "metadata": {},
   "outputs": [],
   "source": []
  }
 ],
 "metadata": {
  "kernelspec": {
   "display_name": "Python 3",
   "language": "python",
   "name": "python3"
  },
  "language_info": {
   "codemirror_mode": {
    "name": "ipython",
    "version": 3
   },
   "file_extension": ".py",
   "mimetype": "text/x-python",
   "name": "python",
   "nbconvert_exporter": "python",
   "pygments_lexer": "ipython3",
   "version": "3.7.3"
  }
 },
 "nbformat": 4,
 "nbformat_minor": 2
}
