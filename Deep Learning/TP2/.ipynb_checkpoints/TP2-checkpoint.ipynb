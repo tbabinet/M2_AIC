{
 "cells": [
  {
   "cell_type": "markdown",
   "metadata": {},
   "source": [
    "# Deep Learning - Lab Exercise 2\n",
    "\n",
    "**WARNING:** you must have finished the first exercise before this one as you will re-use parts of the code.\n",
    "\n",
    "In the first lab exercise, we built a simple linear classifier.\n",
    "Although it can give reasonable results on the MNIST datasetÂ (~92.5% of accuracy), deeper neural networks can achieve more the 99% accuracy on this dataset.\n",
    "However, it can quickly become really impractical to explicitly code forward and backward passes.\n",
    "Hence, it is useful to rely on an auto-diff library where we specify the forward pass only, and the backward pass is automatically deduced from the computational graph structure.\n",
    "\n",
    "In this lab exercise, we will build a small and simple auto-diff lib that mimics the autograd mechanism from Pytorch (of course, we will simplify a lot!)\n",
    "There is two goal:\n",
    "- write the missing code\n",
    "- understand the general structure of an auto-diff lib by looking closely at the code. It will help you to understand how Pytorch works!"
   ]
  },
  {
   "cell_type": "code",
   "execution_count": 5,
   "metadata": {},
   "outputs": [],
   "source": [
    "# import libs that we will use\n",
    "import os\n",
    "import numpy as np\n",
    "import matplotlib.pyplot as plt\n",
    "import math\n",
    "\n",
    "# To load the data we will use the script of Gaetan Marceau Caron\n",
    "# You can download it from the course webiste and move it to the same directory that contains this ipynb file\n",
    "import dataset_loader\n",
    "\n",
    "%matplotlib inline"
   ]
  },
  {
   "cell_type": "markdown",
   "metadata": {},
   "source": [
    "# Data"
   ]
  },
  {
   "cell_type": "code",
   "execution_count": 6,
   "metadata": {},
   "outputs": [],
   "source": [
    "# Download mnist dataset \n",
    "if(\"mnist.pkl.gz\" not in os.listdir(\".\")):\n",
    "    !wget http://deeplearning.net/data/mnist/mnist.pkl.gz\n",
    "\n",
    "# if you have it somewhere else, you can comment the lines above\n",
    "# and overwrite the path below\n",
    "mnist_path = \"./mnist.pkl.gz\""
   ]
  },
  {
   "cell_type": "code",
   "execution_count": 7,
   "metadata": {},
   "outputs": [],
   "source": [
    "# load the 3 splits\n",
    "train_data, dev_data, test_data = dataset_loader.load_mnist(mnist_path)"
   ]
  },
  {
   "cell_type": "code",
   "execution_count": 8,
   "metadata": {},
   "outputs": [
    {
     "name": "stdout",
     "output_type": "stream",
     "text": [
      "label: 1\n"
     ]
    },
    {
     "data": {
      "text/plain": [
       "<matplotlib.image.AxesImage at 0x7f15b200a710>"
      ]
     },
     "execution_count": 8,
     "metadata": {},
     "output_type": "execute_result"
    },
    {
     "data": {
      "image/png": "[encoded data removed]",
      "text/plain": [
       "<Figure size 432x288 with 1 Axes>"
      ]
     },
     "metadata": {
      "needs_background": "light"
     },
     "output_type": "display_data"
    }
   ],
   "source": [
    "index = 900\n",
    "label = train_data[1][index]\n",
    "picture = train_data[0][index]\n",
    "\n",
    "print(\"label: %i\" % label)\n",
    "plt.imshow(picture.reshape(28,28), cmap='Greys')"
   ]
  },
  {
   "cell_type": "markdown",
   "metadata": {},
   "source": [
    "# Computation nodes\n",
    "\n",
    "Instead of directly manipulating numpy arrays, we will manipulate abstraction that contains:\n",
    "- a value (i.e. a numpy array)\n",
    "- a bool indicating if we wish to compute the gradient with respect to the value\n",
    "- the gradient with respect to the value\n",
    "- the operation to call during backpropagation\n",
    "\n",
    "There will be two kinds of nodes:\n",
    "- Tensor: a generic computation node\n",
    "- Parameter: a computation node that is used to store parameters of the network. Parameters are always leaf nodes, i.e. they cannot be build from other computation nodes.\n",
    "\n",
    "Our implementation of the backward pass will be really simple and inefficient in the general case.\n",
    "We will just apply the derivative function for a given tensor and then call the ones of its antecedents, recursively.\n",
    "This simple algorithm is good enough for this exercise.\n",
    "You may want to look at the implementation of the relu (given below) to understand what you have to do.\n",
    "\n",
    "Note that a real implementation of backprop will store temporary values during forward that can be used during backward to improve computation speed. We do not do that here.\n",
    "\n",
    "**Report bonus:** give an example of computation graph for which this simple backprop implementation will be inefficient."
   ]
  },
  {
   "cell_type": "code",
   "execution_count": 26,
   "metadata": {},
   "outputs": [],
   "source": [
    "class Tensor:\n",
    "    def __init__(self, data, require_grad=False):\n",
    "        # test type of data: should be np array\n",
    "        if isinstance(data, float):\n",
    "            data = np.array([data,])\n",
    "        if type(data) != np.ndarray:\n",
    "            raise RuntimeError(\"Input should be a numpy array\")\n",
    "\n",
    "        # store data for this tensor\n",
    "        self.data = data\n",
    "        self.require_grad = require_grad\n",
    "        \n",
    "        # this values should be set to enable autograd!\n",
    "        self.gradient = None\n",
    "        self.d = None\n",
    "        self.backptr = None\n",
    "        \n",
    "    def zero_grad(self):\n",
    "        \"\"\"\n",
    "        Set the gradient of this tensor to 0\n",
    "        \"\"\"\n",
    "        if self.require_grad:\n",
    "            self.gradient = np.zeros_like(self.data)\n",
    "            \n",
    "    def accumulate_gradient(self, gradient):\n",
    "        \"\"\"\n",
    "        Accumulte gradient for this tensor\n",
    "        \"\"\"\n",
    "        if gradient.shape != self.data.shape:\n",
    "            raise RuntimeError(\"Invalid gradient dimension\")\n",
    "\n",
    "        if self.gradient is None:\n",
    "            self.gradient = np.copy(gradient)\n",
    "        else:\n",
    "            self.gradient += gradient\n",
    "            \n",
    "    def backward(self, g=None):\n",
    "        \"\"\"\n",
    "        The backward pass !\n",
    "        If g != None, then g is the gradient for the current node.\n",
    "        i.e. g will be != None only for the loss output.\n",
    "        \n",
    "        You should call the function stored in self.d with correct arguments,\n",
    "        and then recursively call the backward methods of tensors in the backptr list if:\n",
    "        1. they require a gradient\n",
    "        2. they are of type Tensor: check with isinstance(o, Tensor)\n",
    "        \"\"\"\n",
    "        if not self.require_grad:  # stop right now if this node does not require a gradient\n",
    "            return\n",
    "        \n",
    "        if g is not None:\n",
    "            if isinstance(g, float):\n",
    "                g = np.array([g])\n",
    "            if type(g) != np.ndarray:\n",
    "                raise RuntimeError(\"Gradient should be a numpy array\")\n",
    "            if g.shape != self.data.shape:\n",
    "                raise RuntimeError(\"Gradient of different size than the value!\")\n",
    "                \n",
    "            self.gradient = g\n",
    "                \n",
    "        self.d(self.backptr, g)\n",
    "\n",
    "        if isinstance(self.backptr, Tensor):\n",
    "            if self.backptr.require_grad:\n",
    "                self.backptr.backward(self.gradient)\n",
    "        \n",
    "            \n",
    "    \n",
    "class Parameter(Tensor):\n",
    "    \"\"\"\n",
    "    This class will be used to store parameters of the network only!\n",
    "    \"\"\"\n",
    "    def __init__(self, data, name=\"unamed\"):\n",
    "        super().__init__(data, require_grad=True)\n",
    "        self.name = name\n",
    "        \n",
    "    def backward(self):\n",
    "        raise RuntimeError(\"You cannot backprop from a Parameter node\")"
   ]
  },
  {
   "cell_type": "markdown",
   "metadata": {},
   "source": [
    "# Functions\n",
    "\n",
    "Functions manipulate tensors and build the required information for autograd.\n",
    "A function returns a Tensor that should have require_grad = True if at least one of the arguments requires a gradient."
   ]
  },
  {
   "cell_type": "code",
   "execution_count": 14,
   "metadata": {},
   "outputs": [],
   "source": [
    "def any_require_grad(l):\n",
    "    \"\"\"\n",
    "    Input:\n",
    "    - l: an iterable (e.g. a list)\n",
    "    Ouput:\n",
    "    - True if any tensor in the input requires a gradient\n",
    "    \"\"\"\n",
    "    return any(t.require_grad for t in l)"
   ]
  },
  {
   "cell_type": "code",
   "execution_count": 15,
   "metadata": {},
   "outputs": [],
   "source": [
    "# Here is an exemple with the ReLU\n",
    "def relu(x):\n",
    "    v = np.maximum(0, x.data)\n",
    "    \n",
    "    output = Tensor(v, require_grad=x.require_grad)\n",
    "    output.d = backward_relu\n",
    "    output.backptr = [x]\n",
    "    \n",
    "    return output\n",
    "\n",
    "def backward_relu(backptr, g):\n",
    "    x, = backptr\n",
    "    \n",
    "    # the gradient is accumulated in the arguments only if required\n",
    "    if x.require_grad:\n",
    "        x.accumulate_gradient(g * (x.data > 0))"
   ]
  },
  {
   "cell_type": "code",
   "execution_count": 16,
   "metadata": {},
   "outputs": [],
   "source": [
    "def tanh(x):\n",
    "    v = np.tanh(x)\n",
    "    output = Tensor(v, require_grad=x.require_grad)\n",
    "    output.d = backward_tanh\n",
    "    output.backptr = [x]\n",
    "    return output\n",
    "\n",
    "def backward_tanh(backptr, g):\n",
    "    x, = backptr\n",
    "    if x.require_grad:\n",
    "        x.accumulate_gradient(g*(1-np.power(np.tanh(x),2)))"
   ]
  },
  {
   "cell_type": "markdown",
   "metadata": {},
   "source": [
    "Next, we implement the affine transform operation.\n",
    "You can reuse the code from the first lab exercise, with one difference: you have to compute the gradient with respect to x too!"
   ]
  },
  {
   "cell_type": "code",
   "execution_count": 50,
   "metadata": {},
   "outputs": [],
   "source": [
    "def affine_transform(W, b, x):\n",
    "    print(W.data.shape, b.data.shape, x.shape)\n",
    "    v = W.data@x + b\n",
    "\n",
    "def backward_affine_transform(backptr, g):\n",
    "    # retrieve forward arguments\n",
    "    W, b, x = backptr\n",
    "    \n",
    "    # the gradient is accumulated in the arguments only if required\n",
    "    if W.require_grad:\n",
    "        W.accumulate_gradient(g*(g.reshape(g.shape[0],1)@x.reshape(x.shape[0],1).T))\n",
    "    if b.require_grad:\n",
    "        b.accumulate_gradient(g*g)\n",
    "    if x.require_grad:\n",
    "        #print(W.data.shape, b.data.shape, x.data.shape, g.shape)\n",
    "        x.accumulate_gradient(g*(g.reshape(g.shape[0],1)@W.reshape(W.shape[0],1).T))"
   ]
  },
  {
   "cell_type": "code",
   "execution_count": 18,
   "metadata": {},
   "outputs": [],
   "source": [
    "# we use an underscore because this function does not manipulate tensors:\n",
    "# it is exactly the same as in the previous exercise\n",
    "def _softmax(x):\n",
    "    b = np.max(x)\n",
    "    y=np.exp(x-b)\n",
    "    y/=y.sum()\n",
    "    return y\n",
    "\n",
    "def nll(x, gold):\n",
    "    v = -np.log(softmax(x)[gold])\n",
    "    output = Tensor(v, require_grad=x.require_grad)\n",
    "    output.d = backward_nll\n",
    "    output.backptr = [x]\n",
    "    return output\n",
    "\n",
    "def backward_nll(backptr, g):\n",
    "    x, = backptr\n",
    "    if x.require_grad:\n",
    "        g_x = np.zeros((len(x),1))\n",
    "        g_x[gold]=-1\n",
    "        g_x+=_softmax(x.reshape(x.shape[0],1))\n",
    "        x.accumulate_gradient(g*g_x)"
   ]
  },
  {
   "cell_type": "markdown",
   "metadata": {},
   "source": [
    "# Module\n",
    "\n",
    "Neural networks or parts of neural networks will be stored in Modules.\n",
    "They implement method to retrieve all parameters of the network and subnetwork."
   ]
  },
  {
   "cell_type": "code",
   "execution_count": 19,
   "metadata": {},
   "outputs": [],
   "source": [
    "class Module:\n",
    "    def __init__(self):\n",
    "        raise NotImplemented(\"\")\n",
    "        \n",
    "    def parameters(self):\n",
    "        ret = []\n",
    "        for name in dir(self):\n",
    "            o = self.__getattribute__(name)\n",
    "\n",
    "            if type(o) is Parameter:\n",
    "                ret.append(o)\n",
    "            if isinstance(o, Module) or isinstance(o, ModuleList):\n",
    "                ret.extend(o.parameters())\n",
    "        return ret\n",
    "\n",
    "# if you want to store a list of Parameters or Module,\n",
    "# you must store them in a ModuleList instead of a python list,\n",
    "# in order to collect the parameters correctly\n",
    "class ModuleList(list):\n",
    "    def parameters(self):\n",
    "        ret = []\n",
    "        for m in self:\n",
    "            if type(m) is Parameter:\n",
    "                ret.append(m)\n",
    "            elif isinstance(m, Module) or isinstance(m, ModuleList):\n",
    "                ret.extend(m.parameters())\n",
    "        return ret"
   ]
  },
  {
   "cell_type": "markdown",
   "metadata": {},
   "source": [
    "# Initialization and optimization"
   ]
  },
  {
   "cell_type": "code",
   "execution_count": 20,
   "metadata": {},
   "outputs": [],
   "source": [
    "def zero_init(b):\n",
    "    b[:] = 0.\n",
    "\n",
    "def glorot_init(W):\n",
    "    param = (6**(1/2))/((W.shape[0]+W.shape[1])**1/2)\n",
    "    W[:] = np.random.uniform(-param, param, W.shape)\n",
    "\n",
    "# Look at slides for the formula!\n",
    "def kaiming_init(W):\n",
    "    param = (6**(1/2))/((W.shape[1])**1/2)\n",
    "    W[:] = np.random.uniform(-param, param, W.shape)"
   ]
  },
  {
   "cell_type": "code",
   "execution_count": 21,
   "metadata": {},
   "outputs": [],
   "source": [
    "# simple gradient descent optimizer\n",
    "class SGD:\n",
    "    def __init__(self, params, lr=0.1):\n",
    "        self.params = params\n",
    "        self.lr = lr\n",
    "        \n",
    "    def step(self):\n",
    "        for p in self.params:\n",
    "            p.data[:] = p.data - self.lr * p.gradient\n",
    "        \n",
    "    def zero_grad(self):\n",
    "        for p in self.params:\n",
    "            p.zero_grad()"
   ]
  },
  {
   "cell_type": "markdown",
   "metadata": {},
   "source": [
    "# Networks and training loop\n",
    "\n",
    "We first create a simple linear classifier, similar to the first lab exercise."
   ]
  },
  {
   "cell_type": "code",
   "execution_count": 22,
   "metadata": {},
   "outputs": [],
   "source": [
    "class LinearNetwork(Module):\n",
    "    def __init__(self, dim_input, dim_output):\n",
    "        # build the parameters\n",
    "        self.W = Parameter(np.ndarray((dim_output, dim_input)))\n",
    "        self.b = Parameter(np.ndarray((dim_output,)))\n",
    "        \n",
    "        self.init_parameters()\n",
    "        \n",
    "    def init_parameters(self):\n",
    "        # init parameters of the network (i.e W and b)\n",
    "        glorot_init(self.W.data)\n",
    "        zero_init(self.b.data)\n",
    "        \n",
    "    def forward(self, x):\n",
    "        return  affine_transform(self.W, self.b, x)"
   ]
  },
  {
   "cell_type": "markdown",
   "metadata": {},
   "source": [
    "We will train several neural networks.\n",
    "Therefore, we encapsulate the training loop in a function.\n",
    "\n",
    "**warning**: you have to call optimizer.zero_grad() before each backward pass to reinitialize the gradient of the parameters!"
   ]
  },
  {
   "cell_type": "code",
   "execution_count": 38,
   "metadata": {},
   "outputs": [],
   "source": [
    "def training_loop(network, optimizer, train_data, dev_data, n_epochs=10):\n",
    "    for epoch in range(n_epochs):\n",
    "        mean_loss = 0\n",
    "        correct = 0\n",
    "        for i in range(len(train_data[0])):\n",
    "            data = train_data[0][i]\n",
    "            data = data.reshape(data.shape[0],1)\n",
    "            print(data.shape)\n",
    "            label = train_data[1][i]\n",
    "            pred = network.forward(data)\n",
    "            pred.backward()\n",
    "            mean_loss += nll(pred,lab)\n",
    "            if(np.argmax(pred)==lab):\n",
    "                correct+=1\n",
    "        print(correct/len(train_data))\n",
    "        print(mean_loss/len(train_data))\n",
    "            \n",
    "        "
   ]
  },
  {
   "cell_type": "code",
   "execution_count": 51,
   "metadata": {},
   "outputs": [
    {
     "name": "stdout",
     "output_type": "stream",
     "text": [
      "(784, 1)\n",
      "(10, 784) (10,) (784, 1)\n"
     ]
    },
    {
     "ename": "TypeError",
     "evalue": "unsupported operand type(s) for +: 'float' and 'Parameter'",
     "output_type": "error",
     "traceback": [
      "\u001b[0;31m---------------------------------------------------------------------------\u001b[0m",
      "\u001b[0;31mTypeError\u001b[0m                                 Traceback (most recent call last)",
      "\u001b[0;32m<ipython-input-51-ec4c62d26cfc>\u001b[0m in \u001b[0;36m<module>\u001b[0;34m\u001b[0m\n\u001b[1;32m      5\u001b[0m \u001b[0moptimizer\u001b[0m \u001b[0;34m=\u001b[0m \u001b[0mSGD\u001b[0m\u001b[0;34m(\u001b[0m\u001b[0mnetwork\u001b[0m\u001b[0;34m.\u001b[0m\u001b[0mparameters\u001b[0m\u001b[0;34m(\u001b[0m\u001b[0;34m)\u001b[0m\u001b[0;34m,\u001b[0m \u001b[0;36m0.01\u001b[0m\u001b[0;34m)\u001b[0m\u001b[0;34m\u001b[0m\u001b[0;34m\u001b[0m\u001b[0m\n\u001b[1;32m      6\u001b[0m \u001b[0;34m\u001b[0m\u001b[0m\n\u001b[0;32m----> 7\u001b[0;31m \u001b[0mtraining_loop\u001b[0m\u001b[0;34m(\u001b[0m\u001b[0mnetwork\u001b[0m\u001b[0;34m,\u001b[0m \u001b[0moptimizer\u001b[0m\u001b[0;34m,\u001b[0m \u001b[0mtrain_data\u001b[0m\u001b[0;34m,\u001b[0m \u001b[0mdev_data\u001b[0m\u001b[0;34m,\u001b[0m \u001b[0mn_epochs\u001b[0m\u001b[0;34m=\u001b[0m\u001b[0;36m5\u001b[0m\u001b[0;34m)\u001b[0m\u001b[0;34m\u001b[0m\u001b[0;34m\u001b[0m\u001b[0m\n\u001b[0m",
      "\u001b[0;32m<ipython-input-38-434b5e5a222e>\u001b[0m in \u001b[0;36mtraining_loop\u001b[0;34m(network, optimizer, train_data, dev_data, n_epochs)\u001b[0m\n\u001b[1;32m      8\u001b[0m             \u001b[0mprint\u001b[0m\u001b[0;34m(\u001b[0m\u001b[0mdata\u001b[0m\u001b[0;34m.\u001b[0m\u001b[0mshape\u001b[0m\u001b[0;34m)\u001b[0m\u001b[0;34m\u001b[0m\u001b[0;34m\u001b[0m\u001b[0m\n\u001b[1;32m      9\u001b[0m             \u001b[0mlabel\u001b[0m \u001b[0;34m=\u001b[0m \u001b[0mtrain_data\u001b[0m\u001b[0;34m[\u001b[0m\u001b[0;36m1\u001b[0m\u001b[0;34m]\u001b[0m\u001b[0;34m[\u001b[0m\u001b[0mi\u001b[0m\u001b[0;34m]\u001b[0m\u001b[0;34m\u001b[0m\u001b[0;34m\u001b[0m\u001b[0m\n\u001b[0;32m---> 10\u001b[0;31m             \u001b[0mpred\u001b[0m \u001b[0;34m=\u001b[0m \u001b[0mnetwork\u001b[0m\u001b[0;34m.\u001b[0m\u001b[0mforward\u001b[0m\u001b[0;34m(\u001b[0m\u001b[0mdata\u001b[0m\u001b[0;34m)\u001b[0m\u001b[0;34m\u001b[0m\u001b[0;34m\u001b[0m\u001b[0m\n\u001b[0m\u001b[1;32m     11\u001b[0m             \u001b[0mpred\u001b[0m\u001b[0;34m.\u001b[0m\u001b[0mbackward\u001b[0m\u001b[0;34m(\u001b[0m\u001b[0;34m)\u001b[0m\u001b[0;34m\u001b[0m\u001b[0;34m\u001b[0m\u001b[0m\n\u001b[1;32m     12\u001b[0m             \u001b[0mmean_loss\u001b[0m \u001b[0;34m+=\u001b[0m \u001b[0mnll\u001b[0m\u001b[0;34m(\u001b[0m\u001b[0mpred\u001b[0m\u001b[0;34m,\u001b[0m\u001b[0mlab\u001b[0m\u001b[0;34m)\u001b[0m\u001b[0;34m\u001b[0m\u001b[0;34m\u001b[0m\u001b[0m\n",
      "\u001b[0;32m<ipython-input-22-9f16ace3abc0>\u001b[0m in \u001b[0;36mforward\u001b[0;34m(self, x)\u001b[0m\n\u001b[1;32m     13\u001b[0m \u001b[0;34m\u001b[0m\u001b[0m\n\u001b[1;32m     14\u001b[0m     \u001b[0;32mdef\u001b[0m \u001b[0mforward\u001b[0m\u001b[0;34m(\u001b[0m\u001b[0mself\u001b[0m\u001b[0;34m,\u001b[0m \u001b[0mx\u001b[0m\u001b[0;34m)\u001b[0m\u001b[0;34m:\u001b[0m\u001b[0;34m\u001b[0m\u001b[0;34m\u001b[0m\u001b[0m\n\u001b[0;32m---> 15\u001b[0;31m         \u001b[0;32mreturn\u001b[0m  \u001b[0maffine_transform\u001b[0m\u001b[0;34m(\u001b[0m\u001b[0mself\u001b[0m\u001b[0;34m.\u001b[0m\u001b[0mW\u001b[0m\u001b[0;34m,\u001b[0m \u001b[0mself\u001b[0m\u001b[0;34m.\u001b[0m\u001b[0mb\u001b[0m\u001b[0;34m,\u001b[0m \u001b[0mx\u001b[0m\u001b[0;34m)\u001b[0m\u001b[0;34m\u001b[0m\u001b[0;34m\u001b[0m\u001b[0m\n\u001b[0m",
      "\u001b[0;32m<ipython-input-50-42857167c964>\u001b[0m in \u001b[0;36maffine_transform\u001b[0;34m(W, b, x)\u001b[0m\n\u001b[1;32m      1\u001b[0m \u001b[0;32mdef\u001b[0m \u001b[0maffine_transform\u001b[0m\u001b[0;34m(\u001b[0m\u001b[0mW\u001b[0m\u001b[0;34m,\u001b[0m \u001b[0mb\u001b[0m\u001b[0;34m,\u001b[0m \u001b[0mx\u001b[0m\u001b[0;34m)\u001b[0m\u001b[0;34m:\u001b[0m\u001b[0;34m\u001b[0m\u001b[0;34m\u001b[0m\u001b[0m\n\u001b[1;32m      2\u001b[0m     \u001b[0mprint\u001b[0m\u001b[0;34m(\u001b[0m\u001b[0mW\u001b[0m\u001b[0;34m.\u001b[0m\u001b[0mdata\u001b[0m\u001b[0;34m.\u001b[0m\u001b[0mshape\u001b[0m\u001b[0;34m,\u001b[0m \u001b[0mb\u001b[0m\u001b[0;34m.\u001b[0m\u001b[0mdata\u001b[0m\u001b[0;34m.\u001b[0m\u001b[0mshape\u001b[0m\u001b[0;34m,\u001b[0m \u001b[0mx\u001b[0m\u001b[0;34m.\u001b[0m\u001b[0mshape\u001b[0m\u001b[0;34m)\u001b[0m\u001b[0;34m\u001b[0m\u001b[0;34m\u001b[0m\u001b[0m\n\u001b[0;32m----> 3\u001b[0;31m     \u001b[0mv\u001b[0m \u001b[0;34m=\u001b[0m \u001b[0mW\u001b[0m\u001b[0;34m.\u001b[0m\u001b[0mdata\u001b[0m\u001b[0;34m@\u001b[0m\u001b[0mx\u001b[0m \u001b[0;34m+\u001b[0m \u001b[0mb\u001b[0m\u001b[0;34m\u001b[0m\u001b[0;34m\u001b[0m\u001b[0m\n\u001b[0m\u001b[1;32m      4\u001b[0m \u001b[0;34m\u001b[0m\u001b[0m\n\u001b[1;32m      5\u001b[0m \u001b[0;32mdef\u001b[0m \u001b[0mbackward_affine_transform\u001b[0m\u001b[0;34m(\u001b[0m\u001b[0mbackptr\u001b[0m\u001b[0;34m,\u001b[0m \u001b[0mg\u001b[0m\u001b[0;34m)\u001b[0m\u001b[0;34m:\u001b[0m\u001b[0;34m\u001b[0m\u001b[0;34m\u001b[0m\u001b[0m\n",
      "\u001b[0;31mTypeError\u001b[0m: unsupported operand type(s) for +: 'float' and 'Parameter'"
     ]
    }
   ],
   "source": [
    "dim_input = 28*28\n",
    "dim_output = 10\n",
    "\n",
    "network = LinearNetwork(dim_input, dim_output)\n",
    "optimizer = SGD(network.parameters(), 0.01)\n",
    "\n",
    "training_loop(network, optimizer, train_data, dev_data, n_epochs=5)"
   ]
  },
  {
   "cell_type": "markdown",
   "metadata": {},
   "source": [
    "After you finished the linear network, you can move to a deep network!\n",
    "The tanh argument can be used to switch between relu or tanh. Warning: use the correct initialization for a given activation!"
   ]
  },
  {
   "cell_type": "code",
   "execution_count": null,
   "metadata": {},
   "outputs": [],
   "source": [
    "class DeepNetwork(Module):\n",
    "    def __init__(self, dim_input, dim_output, hidden_dim, n_layers, tanh=False):\n",
    "        self.W = ModuleList()\n",
    "        self.b = ModuleList()\n",
    "        \n",
    "        # TODO...\n",
    "        \n",
    "        self.output_proj = # TODO\n",
    "        self.output_bias = # TODO\n",
    "        \n",
    "        self.init_parameters()\n",
    "        \n",
    "    def init_parameters(self):\n",
    "        # TODO...\n",
    "\n",
    "    def forward(self, x):\n",
    "        # TODO"
   ]
  },
  {
   "cell_type": "code",
   "execution_count": null,
   "metadata": {},
   "outputs": [],
   "source": [
    "dim_input = 28*28\n",
    "dim_output = 10\n",
    "\n",
    "network = DeepNetwork(dim_input, dim_output, 100, 1, tanh=False)\n",
    "optimizer = SGD(network.parameters(), 0.01)\n",
    "\n",
    "training_loop(network, optimizer, train_data, dev_data, n_epochs=10)"
   ]
  },
  {
   "cell_type": "code",
   "execution_count": null,
   "metadata": {},
   "outputs": [],
   "source": [
    "dim_input = 28*28\n",
    "dim_output = 10\n",
    "\n",
    "network = DeepNetwork(dim_input, dim_output, 100, 1, tanh=True)\n",
    "optimizer = SGD(network.parameters(), 0.01)\n",
    "\n",
    "training_loop(network, optimizer, train_data, dev_data, n_epochs=10)"
   ]
  },
  {
   "cell_type": "markdown",
   "metadata": {},
   "source": [
    "# Bonus\n",
    "\n",
    "You can try to implement a momentum SGD optimizer!\n",
    "Note that you have to keep track of the velocity for each parameter in the optimizer."
   ]
  }
 ],
 "metadata": {
  "kernelspec": {
   "display_name": "Python 3",
   "language": "python",
   "name": "python3"
  },
  "language_info": {
   "codemirror_mode": {
    "name": "ipython",
    "version": 3
   },
   "file_extension": ".py",
   "mimetype": "text/x-python",
   "name": "python",
   "nbconvert_exporter": "python",
   "pygments_lexer": "ipython3",
   "version": "3.7.3"
  }
 },
 "nbformat": 4,
 "nbformat_minor": 2
}
